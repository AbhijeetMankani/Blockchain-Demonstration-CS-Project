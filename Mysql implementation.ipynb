{
    "cells": [
        {
            "cell_type": "markdown",
            "source": [
                "# createAccount:"
            ],
            "metadata": {}
        },
        {
            "cell_type": "code",
            "execution_count": 14,
            "source": [
                "import datetime\r\n",
                "import hashlib\r\n",
                "from random import uniform\r\n",
                "\r\n",
                "import mysql.connector\r\n",
                "\r\n",
                "# Digital Signature\r\n",
                "import nacl.encoding\r\n",
                "import nacl.signing\r\n",
                "\r\n",
                "\r\n",
                "Connection = mysql.connector.connect(host='localhost', username='root', password='123456', database='Blockchain')\r\n",
                "\r\n",
                "if(Connection.is_connected()):\r\n",
                "\t\r\n",
                "\tcursor = Connection.cursor()\r\n",
                "\r\n",
                "\tName = input(\"Enter Name: \")\r\n",
                "\tAge = input(\"Enter Age: \")\r\n",
                "\tDOB = input(\"Enter Date of Birth: \\nDate: \")\r\n",
                "\tMOB = input(\"Month: \")\r\n",
                "\tYOB = input(\"Year: \")\r\n",
                "\r\n",
                "\r\n",
                "\ttoday = datetime.date.today()\r\n",
                "\timport base64\r\n",
                "\r\n",
                "\ts = Name+DOB+MOB+YOB+str(today.day)+str(today.month)+str(today.year) + str(uniform(0, 100000000000000))\r\n",
                "\r\n",
                "\tseed = s.encode('utf-32')\r\n",
                "\tseed = seed[:32]\r\n",
                "\r\n",
                "\r\n",
                "\tPrivate_KEY = nacl.signing.SigningKey(seed=seed).generate()\r\n",
                "\tPublic_KEY = Private_KEY.verify_key\r\n",
                "\r\n",
                "\tPrivate_KEY_hex = Private_KEY.encode(encoder=nacl.encoding.HexEncoder).decode()\r\n",
                "\tPublic_KEY_hex = Public_KEY.encode(encoder=nacl.encoding.HexEncoder).decode()\r\n",
                "\r\n",
                "\thashedPrivateKey = str(hashlib.sha256((Private_KEY_hex).encode()).hexdigest())\r\n",
                "\r\n",
                "\t# Acc.loc[len(Acc)] = [Public_KEY_hex, hashedPrivateKey, 0, 0, 0]\r\n",
                "\r\n",
                "\tquery = '''INSERT INTO Users VALUES ('{Public_KEY}', '{Hashed_Private_Key}', 0, 0, 0)'''.format(Public_KEY = Public_KEY_hex, Hashed_Private_Key = hashedPrivateKey)\r\n",
                "\r\n",
                "\tcursor.execute(query)\r\n",
                "\r\n",
                "\tConnection.commit()\r\n",
                "\tcursor.close()\r\n",
                "\tConnection.close()\r\n",
                "\r\n",
                "\tprint(\"This is Your Public_KEY:\", Public_KEY_hex)\r\n",
                "\tprint(\"This is your Private_KEY(Do not Share):\", Private_KEY_hex)\r\n",
                "else:\r\n",
                "\tprint(\"There was some error, please try again.\")"
            ],
            "outputs": [
                {
                    "output_type": "stream",
                    "name": "stdout",
                    "text": [
                        "INSERT INTO Users VALUES ('a367f27015aef274485911c9eba41c06d9d60969ecb68f4083579ea6ae2773da', 'd4c6e1febfca286da3e48853d39f8600f50aef6e556a2979984a2be44fdf3bf2', 0, 0, 0)\n",
                        "This is Your Public_KEY: a367f27015aef274485911c9eba41c06d9d60969ecb68f4083579ea6ae2773da\n",
                        "This is your Private_KEY(Do not Share): 8d2e7996450d389f32246dcb3d9e495c439e705738aa566609da50d5dd9f0104\n"
                    ]
                }
            ],
            "metadata": {}
        },
        {
            "cell_type": "code",
            "execution_count": 10,
            "source": [
                "Public_KEY_hex"
            ],
            "outputs": [
                {
                    "output_type": "execute_result",
                    "data": {
                        "text/plain": [
                            "'8679abe8e9fdfd8db583904671ab8d822e0ecfdc2340d908d90283e5912c9352'"
                        ]
                    },
                    "metadata": {},
                    "execution_count": 10
                }
            ],
            "metadata": {}
        },
        {
            "cell_type": "code",
            "execution_count": null,
            "source": [],
            "outputs": [],
            "metadata": {}
        }
    ],
    "metadata": {
        "orig_nbformat": 4,
        "language_info": {
            "name": "python",
            "version": "3.9.5",
            "mimetype": "text/x-python",
            "codemirror_mode": {
                "name": "ipython",
                "version": 3
            },
            "pygments_lexer": "ipython3",
            "nbconvert_exporter": "python",
            "file_extension": ".py"
        },
        "kernelspec": {
            "name": "python3",
            "display_name": "Python 3.9.5 64-bit"
        },
        "interpreter": {
            "hash": "701449839e10203efe60d853a9fa0d9a1b89d4cd9b77a09c64dd37d268332b4f"
        }
    },
    "nbformat": 4,
    "nbformat_minor": 2
}