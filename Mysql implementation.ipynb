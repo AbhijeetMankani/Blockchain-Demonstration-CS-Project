{
    "cells": [
        {
            "cell_type": "markdown",
            "source": [
                "# createAccount: \r\n",
                "## DONE"
            ],
            "metadata": {}
        },
        {
            "cell_type": "code",
            "execution_count": 41,
            "source": [
                "import datetime\r\n",
                "import hashlib\r\n",
                "from random import uniform\r\n",
                "\r\n",
                "import mysql.connector\r\n",
                "\r\n",
                "# Digital Signature\r\n",
                "import nacl.encoding\r\n",
                "import nacl.signing\r\n",
                "\r\n",
                "\r\n",
                "Connection = mysql.connector.connect(host='localhost', username='root', password='123456', database='Blockchain')\r\n",
                "\r\n",
                "if(Connection.is_connected()):\r\n",
                "\t\r\n",
                "\tcursor = Connection.cursor()\r\n",
                "\r\n",
                "\tName = input(\"Enter Name: \")\r\n",
                "\tAge = input(\"Enter Age: \")\r\n",
                "\tDOB = input(\"Enter Date of Birth: \\nDate: \")\r\n",
                "\tMOB = input(\"Month: \")\r\n",
                "\tYOB = input(\"Year: \")\r\n",
                "\r\n",
                "\r\n",
                "\ttoday = datetime.date.today()\r\n",
                "\timport base64\r\n",
                "\r\n",
                "\ts = Name+DOB+MOB+YOB+str(today.day)+str(today.month)+str(today.year) + str(uniform(0, 100000000000000))\r\n",
                "\r\n",
                "\tseed = s.encode('utf-32')\r\n",
                "\tseed = seed[:32]\r\n",
                "\r\n",
                "\r\n",
                "\tPrivate_KEY = nacl.signing.SigningKey(seed=seed).generate()\r\n",
                "\tPublic_KEY = Private_KEY.verify_key\r\n",
                "\r\n",
                "\tPrivate_KEY_hex = Private_KEY.encode(encoder=nacl.encoding.HexEncoder).decode()\r\n",
                "\tPublic_KEY_hex = Public_KEY.encode(encoder=nacl.encoding.HexEncoder).decode()\r\n",
                "\r\n",
                "\thashedPrivateKey = str(hashlib.sha256((Private_KEY_hex).encode()).hexdigest())\r\n",
                "\r\n",
                "\tquery = '''INSERT INTO Users VALUES ('{Public_KEY}', '{Hashed_Private_Key}', 0, 0, 0)'''.format(Public_KEY = Public_KEY_hex, Hashed_Private_Key = hashedPrivateKey)\r\n",
                "\r\n",
                "\tcursor.execute(query)\r\n",
                "\r\n",
                "\tConnection.commit()\r\n",
                "\tcursor.close()\r\n",
                "\tConnection.close()\r\n",
                "\r\n",
                "\tprint(\"This is Your Public_KEY:\", Public_KEY_hex)\r\n",
                "\tprint(\"This is your Private_KEY(Do not Share):\", Private_KEY_hex)\r\n",
                "else:\r\n",
                "\tprint(\"There was some error, please try again.\")"
            ],
            "outputs": [
                {
                    "output_type": "stream",
                    "name": "stdout",
                    "text": [
                        "This is Your Public_KEY: 606945fdcedbc1dafe6f9dbd0336601df2b1065d7f328652a47e49555ea989cb\n",
                        "This is your Private_KEY(Do not Share): 5d66af2be6fc5a608782985598726034962d849b058aabbfcf0fd03d41df9182\n"
                    ]
                }
            ],
            "metadata": {}
        },
        {
            "cell_type": "markdown",
            "source": [
                "# Dashboard: \r\n",
                "## DONE"
            ],
            "metadata": {}
        },
        {
            "cell_type": "code",
            "execution_count": 49,
            "source": [
                "import hashlib\r\n",
                "import DashBoard_Commands\r\n",
                "\r\n",
                "import mysql.connector\r\n",
                "\r\n",
                "Connection = mysql.connector.connect(host='localhost', username='root', password='123456', database='Blockchain')\r\n",
                "\r\n",
                "if(Connection.is_connected()):\r\n",
                "\t\r\n",
                "\tcursor = Connection.cursor()\r\n",
                "\t# Logging in Process\r\n",
                "\tpkey_ = input(\"Enter Public Key: \")\r\n",
                "\tHash_priv_ = str(hashlib.sha256(input(\"Enter Private Key: \").encode()).hexdigest())\r\n",
                "\r\n",
                "\tquery = '''SELECT Hashed_Private_Key FROM Users WHERE Public_Key=\"{Public_Key}\"'''.format(Public_Key = pkey_)\r\n",
                "\r\n",
                "\tcursor.execute(query)\r\n",
                "\r\n",
                "\ttry:\r\n",
                "\t\tHashed_Private_Key = cursor.fetchall()[0][0]\r\n",
                "\texcept:\r\n",
                "\t\tprint(\"Invalid Public Key\")\r\n",
                "\r\n",
                "\tcursor.close()\r\n",
                "\tConnection.close()\r\n",
                "\r\n",
                "\tif(Hashed_Private_Key == Hash_priv_):\r\n",
                "\t\tprint(\"Login Successful\")\r\n",
                "\telse:\r\n",
                "\t\tprint(\"Login Unsuccessful, Incorrect Public/Private Key\")\r\n",
                "\t\texit()\r\n",
                "\r\n",
                "\taction = ' '\r\n",
                "\r\n",
                "\t# Dashboard Commmands\r\n",
                "\twhile(action not in \"Ee\"):\r\n",
                "\t\tprint(\"Enter T to issue a Transaction\")\r\n",
                "\t\tprint(\"Enter B to Check Balance\")\r\n",
                "\t\tprint(\"Enter S to Submit Nonce for Ongoing Block\")\r\n",
                "\t\tprint(\"Enter E to Exit and Log out\")\r\n",
                "\t\taction = input()\t\r\n",
                "\t\tif(action not in \"TtBbSsEe\"):\r\n",
                "\t\t\tprint(\"Invalid Action\\n\\n\")\r\n",
                "\t\telif(action in \"Tt\"):\r\n",
                "\t\t\tReciever_ID = input(\"Enter reciever's ID: \")\r\n",
                "\t\t\tamount = float(input(\"Enter Transaction Amount: \"))\r\n",
                "\r\n",
                "\t\t\tDashBoard_Commands.transaction(pkey_, Reciever_ID, amount)\r\n",
                "\r\n",
                "\t\t\tprint('\\n')\r\n",
                "\t\t\t#Transaction Code Goes Here\r\n",
                "\t\telif(action in \"Bb\"):\r\n",
                "\t\t\tDashBoard_Commands.balance(pkey_)\r\n",
                "\r\n",
                "\t\t\tprint('\\n\\n')\r\n",
                "\t\t\t#Balance Check Code Goes Here\r\n",
                "\t\telif(action in \"Ss\"):\r\n",
                "\t\t\tnonce = input(\"Enter the Nonce for current block: \")\r\n",
                "\t\t\tDashBoard_Commands.submit_nonce(nonce)\r\n",
                "\t\t\t#Submiting Nonce Code Goes Here\r\n",
                "\r\n",
                "\tprint(\"Exited, and Logged out\")\r\n",
                "else:\r\n",
                "\tprint(\"There was some error, please try again.\")"
            ],
            "outputs": [
                {
                    "output_type": "stream",
                    "name": "stdout",
                    "text": [
                        "Login Successful\n",
                        "Enter T to issue a Transaction\n",
                        "Enter B to Check Balance\n",
                        "Enter S to Submit Nonce for Ongoing Block\n",
                        "Enter E to Exit and Log out\n"
                    ]
                },
                {
                    "output_type": "error",
                    "ename": "FileNotFoundError",
                    "evalue": "[Errno 2] No such file or directory: 'C:\\\\Users\\\\Sunil\\\\Desktop\\\\Abhijeet\\\\TSS\\\\CS\\\\Grade 12 Project\\\\BlockChain\\\\Accounts.csv'",
                    "traceback": [
                        "\u001b[1;31m---------------------------------------------------------------------------\u001b[0m",
                        "\u001b[1;31mFileNotFoundError\u001b[0m                         Traceback (most recent call last)",
                        "\u001b[1;32m~\\AppData\\Local\\Temp/ipykernel_15136/2758789213.py\u001b[0m in \u001b[0;36m<module>\u001b[1;34m\u001b[0m\n\u001b[0;32m     51\u001b[0m                         \u001b[1;31m#Transaction Code Goes Here\u001b[0m\u001b[1;33m\u001b[0m\u001b[1;33m\u001b[0m\u001b[1;33m\u001b[0m\u001b[0m\n\u001b[0;32m     52\u001b[0m                 \u001b[1;32melif\u001b[0m\u001b[1;33m(\u001b[0m\u001b[0maction\u001b[0m \u001b[1;32min\u001b[0m \u001b[1;34m\"Bb\"\u001b[0m\u001b[1;33m)\u001b[0m\u001b[1;33m:\u001b[0m\u001b[1;33m\u001b[0m\u001b[1;33m\u001b[0m\u001b[0m\n\u001b[1;32m---> 53\u001b[1;33m                         \u001b[0mDashBoard_Commands\u001b[0m\u001b[1;33m.\u001b[0m\u001b[0mbalance\u001b[0m\u001b[1;33m(\u001b[0m\u001b[0mpkey_\u001b[0m\u001b[1;33m)\u001b[0m\u001b[1;33m\u001b[0m\u001b[1;33m\u001b[0m\u001b[0m\n\u001b[0m\u001b[0;32m     54\u001b[0m \u001b[1;33m\u001b[0m\u001b[0m\n\u001b[0;32m     55\u001b[0m                         \u001b[0mprint\u001b[0m\u001b[1;33m(\u001b[0m\u001b[1;34m'\\n\\n'\u001b[0m\u001b[1;33m)\u001b[0m\u001b[1;33m\u001b[0m\u001b[1;33m\u001b[0m\u001b[0m\n",
                        "\u001b[1;32mc:\\Users\\Sunil\\Desktop\\Abhijeet\\TSS\\CS\\Grade 12 Project\\BlockChain\\DashBoard_Commands.py\u001b[0m in \u001b[0;36mbalance\u001b[1;34m(user_id)\u001b[0m\n\u001b[0;32m     51\u001b[0m \u001b[1;32mdef\u001b[0m \u001b[0mbalance\u001b[0m\u001b[1;33m(\u001b[0m\u001b[0muser_id\u001b[0m\u001b[1;33m)\u001b[0m\u001b[1;33m:\u001b[0m\u001b[1;33m\u001b[0m\u001b[1;33m\u001b[0m\u001b[0m\n\u001b[0;32m     52\u001b[0m         \u001b[0mConnection\u001b[0m \u001b[1;33m=\u001b[0m \u001b[0mmysql\u001b[0m\u001b[1;33m.\u001b[0m\u001b[0mconnector\u001b[0m\u001b[1;33m.\u001b[0m\u001b[0mconnect\u001b[0m\u001b[1;33m(\u001b[0m\u001b[0mhost\u001b[0m\u001b[1;33m=\u001b[0m\u001b[1;34m'localhost'\u001b[0m\u001b[1;33m,\u001b[0m \u001b[0musername\u001b[0m\u001b[1;33m=\u001b[0m\u001b[1;34m'root'\u001b[0m\u001b[1;33m,\u001b[0m \u001b[0mpassword\u001b[0m\u001b[1;33m=\u001b[0m\u001b[1;34m'123456'\u001b[0m\u001b[1;33m,\u001b[0m \u001b[0mdatabase\u001b[0m\u001b[1;33m=\u001b[0m\u001b[1;34m'Blockchain'\u001b[0m\u001b[1;33m)\u001b[0m\u001b[1;33m\u001b[0m\u001b[1;33m\u001b[0m\u001b[0m\n\u001b[1;32m---> 53\u001b[1;33m         \u001b[0mcursor\u001b[0m \u001b[1;33m=\u001b[0m \u001b[0mConnection\u001b[0m\u001b[1;33m.\u001b[0m\u001b[0mcursor\u001b[0m\u001b[1;33m(\u001b[0m\u001b[1;33m)\u001b[0m\u001b[1;33m\u001b[0m\u001b[1;33m\u001b[0m\u001b[0m\n\u001b[0m\u001b[0;32m     54\u001b[0m         \u001b[0mquery\u001b[0m \u001b[1;33m=\u001b[0m \u001b[1;34m'''SELECT Balance FROM Users WHERE Public_Key=\"{Public_Key}\";\"'''\u001b[0m\u001b[1;33m.\u001b[0m\u001b[0mformat\u001b[0m\u001b[1;33m(\u001b[0m\u001b[0mPublic_Key\u001b[0m \u001b[1;33m=\u001b[0m \u001b[0muser_id\u001b[0m\u001b[1;33m)\u001b[0m\u001b[1;33m\u001b[0m\u001b[1;33m\u001b[0m\u001b[0m\n\u001b[0;32m     55\u001b[0m \u001b[1;33m\u001b[0m\u001b[0m\n",
                        "\u001b[1;32m~\\AppData\\Local\\Programs\\Python\\Python39\\lib\\site-packages\\pandas\\io\\parsers.py\u001b[0m in \u001b[0;36mread_csv\u001b[1;34m(filepath_or_buffer, sep, delimiter, header, names, index_col, usecols, squeeze, prefix, mangle_dupe_cols, dtype, engine, converters, true_values, false_values, skipinitialspace, skiprows, skipfooter, nrows, na_values, keep_default_na, na_filter, verbose, skip_blank_lines, parse_dates, infer_datetime_format, keep_date_col, date_parser, dayfirst, cache_dates, iterator, chunksize, compression, thousands, decimal, lineterminator, quotechar, quoting, doublequote, escapechar, comment, encoding, dialect, error_bad_lines, warn_bad_lines, delim_whitespace, low_memory, memory_map, float_precision, storage_options)\u001b[0m\n\u001b[0;32m    608\u001b[0m     \u001b[0mkwds\u001b[0m\u001b[1;33m.\u001b[0m\u001b[0mupdate\u001b[0m\u001b[1;33m(\u001b[0m\u001b[0mkwds_defaults\u001b[0m\u001b[1;33m)\u001b[0m\u001b[1;33m\u001b[0m\u001b[1;33m\u001b[0m\u001b[0m\n\u001b[0;32m    609\u001b[0m \u001b[1;33m\u001b[0m\u001b[0m\n\u001b[1;32m--> 610\u001b[1;33m     \u001b[1;32mreturn\u001b[0m \u001b[0m_read\u001b[0m\u001b[1;33m(\u001b[0m\u001b[0mfilepath_or_buffer\u001b[0m\u001b[1;33m,\u001b[0m \u001b[0mkwds\u001b[0m\u001b[1;33m)\u001b[0m\u001b[1;33m\u001b[0m\u001b[1;33m\u001b[0m\u001b[0m\n\u001b[0m\u001b[0;32m    611\u001b[0m \u001b[1;33m\u001b[0m\u001b[0m\n\u001b[0;32m    612\u001b[0m \u001b[1;33m\u001b[0m\u001b[0m\n",
                        "\u001b[1;32m~\\AppData\\Local\\Programs\\Python\\Python39\\lib\\site-packages\\pandas\\io\\parsers.py\u001b[0m in \u001b[0;36m_read\u001b[1;34m(filepath_or_buffer, kwds)\u001b[0m\n\u001b[0;32m    460\u001b[0m \u001b[1;33m\u001b[0m\u001b[0m\n\u001b[0;32m    461\u001b[0m     \u001b[1;31m# Create the parser.\u001b[0m\u001b[1;33m\u001b[0m\u001b[1;33m\u001b[0m\u001b[1;33m\u001b[0m\u001b[0m\n\u001b[1;32m--> 462\u001b[1;33m     \u001b[0mparser\u001b[0m \u001b[1;33m=\u001b[0m \u001b[0mTextFileReader\u001b[0m\u001b[1;33m(\u001b[0m\u001b[0mfilepath_or_buffer\u001b[0m\u001b[1;33m,\u001b[0m \u001b[1;33m**\u001b[0m\u001b[0mkwds\u001b[0m\u001b[1;33m)\u001b[0m\u001b[1;33m\u001b[0m\u001b[1;33m\u001b[0m\u001b[0m\n\u001b[0m\u001b[0;32m    463\u001b[0m \u001b[1;33m\u001b[0m\u001b[0m\n\u001b[0;32m    464\u001b[0m     \u001b[1;32mif\u001b[0m \u001b[0mchunksize\u001b[0m \u001b[1;32mor\u001b[0m \u001b[0miterator\u001b[0m\u001b[1;33m:\u001b[0m\u001b[1;33m\u001b[0m\u001b[1;33m\u001b[0m\u001b[0m\n",
                        "\u001b[1;32m~\\AppData\\Local\\Programs\\Python\\Python39\\lib\\site-packages\\pandas\\io\\parsers.py\u001b[0m in \u001b[0;36m__init__\u001b[1;34m(self, f, engine, **kwds)\u001b[0m\n\u001b[0;32m    817\u001b[0m             \u001b[0mself\u001b[0m\u001b[1;33m.\u001b[0m\u001b[0moptions\u001b[0m\u001b[1;33m[\u001b[0m\u001b[1;34m\"has_index_names\"\u001b[0m\u001b[1;33m]\u001b[0m \u001b[1;33m=\u001b[0m \u001b[0mkwds\u001b[0m\u001b[1;33m[\u001b[0m\u001b[1;34m\"has_index_names\"\u001b[0m\u001b[1;33m]\u001b[0m\u001b[1;33m\u001b[0m\u001b[1;33m\u001b[0m\u001b[0m\n\u001b[0;32m    818\u001b[0m \u001b[1;33m\u001b[0m\u001b[0m\n\u001b[1;32m--> 819\u001b[1;33m         \u001b[0mself\u001b[0m\u001b[1;33m.\u001b[0m\u001b[0m_engine\u001b[0m \u001b[1;33m=\u001b[0m \u001b[0mself\u001b[0m\u001b[1;33m.\u001b[0m\u001b[0m_make_engine\u001b[0m\u001b[1;33m(\u001b[0m\u001b[0mself\u001b[0m\u001b[1;33m.\u001b[0m\u001b[0mengine\u001b[0m\u001b[1;33m)\u001b[0m\u001b[1;33m\u001b[0m\u001b[1;33m\u001b[0m\u001b[0m\n\u001b[0m\u001b[0;32m    820\u001b[0m \u001b[1;33m\u001b[0m\u001b[0m\n\u001b[0;32m    821\u001b[0m     \u001b[1;32mdef\u001b[0m \u001b[0mclose\u001b[0m\u001b[1;33m(\u001b[0m\u001b[0mself\u001b[0m\u001b[1;33m)\u001b[0m\u001b[1;33m:\u001b[0m\u001b[1;33m\u001b[0m\u001b[1;33m\u001b[0m\u001b[0m\n",
                        "\u001b[1;32m~\\AppData\\Local\\Programs\\Python\\Python39\\lib\\site-packages\\pandas\\io\\parsers.py\u001b[0m in \u001b[0;36m_make_engine\u001b[1;34m(self, engine)\u001b[0m\n\u001b[0;32m   1048\u001b[0m             )\n\u001b[0;32m   1049\u001b[0m         \u001b[1;31m# error: Too many arguments for \"ParserBase\"\u001b[0m\u001b[1;33m\u001b[0m\u001b[1;33m\u001b[0m\u001b[1;33m\u001b[0m\u001b[0m\n\u001b[1;32m-> 1050\u001b[1;33m         \u001b[1;32mreturn\u001b[0m \u001b[0mmapping\u001b[0m\u001b[1;33m[\u001b[0m\u001b[0mengine\u001b[0m\u001b[1;33m]\u001b[0m\u001b[1;33m(\u001b[0m\u001b[0mself\u001b[0m\u001b[1;33m.\u001b[0m\u001b[0mf\u001b[0m\u001b[1;33m,\u001b[0m \u001b[1;33m**\u001b[0m\u001b[0mself\u001b[0m\u001b[1;33m.\u001b[0m\u001b[0moptions\u001b[0m\u001b[1;33m)\u001b[0m  \u001b[1;31m# type: ignore[call-arg]\u001b[0m\u001b[1;33m\u001b[0m\u001b[1;33m\u001b[0m\u001b[0m\n\u001b[0m\u001b[0;32m   1051\u001b[0m \u001b[1;33m\u001b[0m\u001b[0m\n\u001b[0;32m   1052\u001b[0m     \u001b[1;32mdef\u001b[0m \u001b[0m_failover_to_python\u001b[0m\u001b[1;33m(\u001b[0m\u001b[0mself\u001b[0m\u001b[1;33m)\u001b[0m\u001b[1;33m:\u001b[0m\u001b[1;33m\u001b[0m\u001b[1;33m\u001b[0m\u001b[0m\n",
                        "\u001b[1;32m~\\AppData\\Local\\Programs\\Python\\Python39\\lib\\site-packages\\pandas\\io\\parsers.py\u001b[0m in \u001b[0;36m__init__\u001b[1;34m(self, src, **kwds)\u001b[0m\n\u001b[0;32m   1865\u001b[0m \u001b[1;33m\u001b[0m\u001b[0m\n\u001b[0;32m   1866\u001b[0m         \u001b[1;31m# open handles\u001b[0m\u001b[1;33m\u001b[0m\u001b[1;33m\u001b[0m\u001b[1;33m\u001b[0m\u001b[0m\n\u001b[1;32m-> 1867\u001b[1;33m         \u001b[0mself\u001b[0m\u001b[1;33m.\u001b[0m\u001b[0m_open_handles\u001b[0m\u001b[1;33m(\u001b[0m\u001b[0msrc\u001b[0m\u001b[1;33m,\u001b[0m \u001b[0mkwds\u001b[0m\u001b[1;33m)\u001b[0m\u001b[1;33m\u001b[0m\u001b[1;33m\u001b[0m\u001b[0m\n\u001b[0m\u001b[0;32m   1868\u001b[0m         \u001b[1;32massert\u001b[0m \u001b[0mself\u001b[0m\u001b[1;33m.\u001b[0m\u001b[0mhandles\u001b[0m \u001b[1;32mis\u001b[0m \u001b[1;32mnot\u001b[0m \u001b[1;32mNone\u001b[0m\u001b[1;33m\u001b[0m\u001b[1;33m\u001b[0m\u001b[0m\n\u001b[0;32m   1869\u001b[0m         \u001b[1;32mfor\u001b[0m \u001b[0mkey\u001b[0m \u001b[1;32min\u001b[0m \u001b[1;33m(\u001b[0m\u001b[1;34m\"storage_options\"\u001b[0m\u001b[1;33m,\u001b[0m \u001b[1;34m\"encoding\"\u001b[0m\u001b[1;33m,\u001b[0m \u001b[1;34m\"memory_map\"\u001b[0m\u001b[1;33m,\u001b[0m \u001b[1;34m\"compression\"\u001b[0m\u001b[1;33m)\u001b[0m\u001b[1;33m:\u001b[0m\u001b[1;33m\u001b[0m\u001b[1;33m\u001b[0m\u001b[0m\n",
                        "\u001b[1;32m~\\AppData\\Local\\Programs\\Python\\Python39\\lib\\site-packages\\pandas\\io\\parsers.py\u001b[0m in \u001b[0;36m_open_handles\u001b[1;34m(self, src, kwds)\u001b[0m\n\u001b[0;32m   1360\u001b[0m         \u001b[0mLet\u001b[0m \u001b[0mthe\u001b[0m \u001b[0mreaders\u001b[0m \u001b[0mopen\u001b[0m \u001b[0mIOHanldes\u001b[0m \u001b[0mafter\u001b[0m \u001b[0mthey\u001b[0m \u001b[0mare\u001b[0m \u001b[0mdone\u001b[0m \u001b[1;32mwith\u001b[0m \u001b[0mtheir\u001b[0m \u001b[0mpotential\u001b[0m \u001b[0mraises\u001b[0m\u001b[1;33m.\u001b[0m\u001b[1;33m\u001b[0m\u001b[1;33m\u001b[0m\u001b[0m\n\u001b[0;32m   1361\u001b[0m         \"\"\"\n\u001b[1;32m-> 1362\u001b[1;33m         self.handles = get_handle(\n\u001b[0m\u001b[0;32m   1363\u001b[0m             \u001b[0msrc\u001b[0m\u001b[1;33m,\u001b[0m\u001b[1;33m\u001b[0m\u001b[1;33m\u001b[0m\u001b[0m\n\u001b[0;32m   1364\u001b[0m             \u001b[1;34m\"r\"\u001b[0m\u001b[1;33m,\u001b[0m\u001b[1;33m\u001b[0m\u001b[1;33m\u001b[0m\u001b[0m\n",
                        "\u001b[1;32m~\\AppData\\Local\\Programs\\Python\\Python39\\lib\\site-packages\\pandas\\io\\common.py\u001b[0m in \u001b[0;36mget_handle\u001b[1;34m(path_or_buf, mode, encoding, compression, memory_map, is_text, errors, storage_options)\u001b[0m\n\u001b[0;32m    640\u001b[0m                 \u001b[0merrors\u001b[0m \u001b[1;33m=\u001b[0m \u001b[1;34m\"replace\"\u001b[0m\u001b[1;33m\u001b[0m\u001b[1;33m\u001b[0m\u001b[0m\n\u001b[0;32m    641\u001b[0m             \u001b[1;31m# Encoding\u001b[0m\u001b[1;33m\u001b[0m\u001b[1;33m\u001b[0m\u001b[1;33m\u001b[0m\u001b[0m\n\u001b[1;32m--> 642\u001b[1;33m             handle = open(\n\u001b[0m\u001b[0;32m    643\u001b[0m                 \u001b[0mhandle\u001b[0m\u001b[1;33m,\u001b[0m\u001b[1;33m\u001b[0m\u001b[1;33m\u001b[0m\u001b[0m\n\u001b[0;32m    644\u001b[0m                 \u001b[0mioargs\u001b[0m\u001b[1;33m.\u001b[0m\u001b[0mmode\u001b[0m\u001b[1;33m,\u001b[0m\u001b[1;33m\u001b[0m\u001b[1;33m\u001b[0m\u001b[0m\n",
                        "\u001b[1;31mFileNotFoundError\u001b[0m: [Errno 2] No such file or directory: 'C:\\\\Users\\\\Sunil\\\\Desktop\\\\Abhijeet\\\\TSS\\\\CS\\\\Grade 12 Project\\\\BlockChain\\\\Accounts.csv'"
                    ]
                }
            ],
            "metadata": {}
        },
        {
            "cell_type": "markdown",
            "source": [
                "# Dashboard Commands:\r\n",
                "## NOT DONE\r\n",
                "\r\n",
                "### Balance - DONE\r\n",
                "### Transactions - NOT DONE\r\n",
                "### Submit Nonce - NOT DONE"
            ],
            "metadata": {}
        },
        {
            "cell_type": "code",
            "execution_count": 47,
            "source": [
                "import pandas as pd\r\n",
                "import nacl.signing\r\n",
                "import nacl.encoding\r\n",
                "\r\n",
                "import mysql.connector\r\n",
                "\r\n",
                "\r\n",
                "\r\n",
                "def transaction(sender_id, receiver_id, amount, signing_key):\r\n",
                "\tif(amount < 0): \r\n",
                "\t\tprint(\"Invalid Amount\")\r\n",
                "\t\treturn\r\n",
                "\t# Acc = pd.read_csv(r'C:\\Users\\Sunil\\Desktop\\Abhijeet\\TSS\\CS\\Grade 12 Project\\BlockChain\\Accounts.csv')\r\n",
                "\tConnection = mysql.connector.connect(host='localhost', username='root', password='123456', database='Blockchain')\r\n",
                "\tcursor = Connection.cursor()\r\n",
                "\tquery = '''SELECT Balance FROM Users WHERE Public_Key=\"{Public_Key}\";\"'''.format(Public_Key = sender_id)\r\n",
                "\tcursor.execute(query)\r\n",
                "\tsender_bal = cursor.fetchall()\r\n",
                "\tquery = '''SELECT Balance FROM Users WHERE Public_Key=\"{Public_Key}\";\"'''.format(Public_Key = receiver_id)\r\n",
                "\tcursor.execute(query)\r\n",
                "\r\n",
                "\treceiver_bal = cursor.fetchall()\r\n",
                "\tif(len(sender_bal) == 0):\r\n",
                "\t\tprint(\"Invalid Sender's ID\")\r\n",
                "\t\treturn\r\n",
                "\tif(len(receiver_bal) == 0):\r\n",
                "\t\tprint(\"Invalid Reciever's ID\")\r\n",
                "\t\treturn\r\n",
                "\tif(sender_bal < amount):\r\n",
                "\t\tprint(\"Insufficient Balance\")\r\n",
                "\t\treturn\r\n",
                "\t\r\n",
                "\treceiver_bal = receiver_bal[0][0]\r\n",
                "\tsender_bal = sender_bal[0][0]\r\n",
                "\r\n",
                "\t# Transaction in form of json to store in sql\r\n",
                "\ttransaction = '''{\r\n",
                "\t\t\"sender_id\": \"{sender_id}\",\r\n",
                "\t\t\"receiver_id\": \"{receiver_id}\",\r\n",
                "\t\t\"amount\": \"{amount}\"\r\n",
                "\t}'''.format(sender_id=sender_id, receiver_id=receiver_id, amount=amount)\r\n",
                "\r\n",
                "\t# Regenerating key from hex\r\n",
                "\tsign_key = nacl.signing.SigningKey(signing_key, encoder=nacl.encoding.HexEncoder)\r\n",
                "\r\n",
                "\tsigned_transaction = sign_key.sign(transaction)\r\n",
                "\r\n",
                "\t\r\n",
                "    \r\n",
                "\r\n",
                "def balance(user_id):\r\n",
                "\tConnection = mysql.connector.connect(host='localhost', username='root', password='123456', database='Blockchain')\r\n",
                "\tcursor = Connection.cursor()\r\n",
                "\tquery = '''SELECT Balance FROM Users WHERE Public_Key=\"{Public_Key}\";\"'''.format(Public_Key = user_id)\r\n",
                "\r\n",
                "\tcursor.execute(query)\r\n",
                "\r\n",
                "\tbal = cursor.fetchall()[0][0]\r\n",
                "\r\n",
                "\tprint(\"Balance:\", bal)\r\n",
                "\r\n",
                "def submit_nonce(nonce):\r\n",
                "\tpass"
            ],
            "outputs": [],
            "metadata": {}
        },
        {
            "cell_type": "code",
            "execution_count": 38,
            "source": [
                "transaction('a367f27015aef274485911c9eba41c06d9d60969ecb68f4083579ea6ae2773da', '78759c7ca24bbdc41bfed933f9c57994812813e35f946b0e531736bda24eca4b', 5.0, '8d2e7996450d389f32246dcb3d9e495c439e705738aa566609da50d5dd9f0104')"
            ],
            "outputs": [
                {
                    "output_type": "error",
                    "ename": "DatabaseError",
                    "evalue": "2014 (HY000): Commands out of sync; you can't run this command now",
                    "traceback": [
                        "\u001b[1;31m---------------------------------------------------------------------------\u001b[0m",
                        "\u001b[1;31mMySQLInterfaceError\u001b[0m                       Traceback (most recent call last)",
                        "\u001b[1;32m~\\AppData\\Local\\Programs\\Python\\Python39\\lib\\site-packages\\mysql\\connector\\connection_cext.py\u001b[0m in \u001b[0;36mcmd_query\u001b[1;34m(self, query, raw, buffered, raw_as_string)\u001b[0m\n\u001b[0;32m    505\u001b[0m                 \u001b[0mquery\u001b[0m \u001b[1;33m=\u001b[0m \u001b[0mquery\u001b[0m\u001b[1;33m.\u001b[0m\u001b[0mencode\u001b[0m\u001b[1;33m(\u001b[0m\u001b[1;34m'utf-8'\u001b[0m\u001b[1;33m)\u001b[0m\u001b[1;33m\u001b[0m\u001b[1;33m\u001b[0m\u001b[0m\n\u001b[1;32m--> 506\u001b[1;33m             self._cmysql.query(query,\n\u001b[0m\u001b[0;32m    507\u001b[0m                                \u001b[0mraw\u001b[0m\u001b[1;33m=\u001b[0m\u001b[0mraw\u001b[0m\u001b[1;33m,\u001b[0m \u001b[0mbuffered\u001b[0m\u001b[1;33m=\u001b[0m\u001b[0mbuffered\u001b[0m\u001b[1;33m,\u001b[0m\u001b[1;33m\u001b[0m\u001b[1;33m\u001b[0m\u001b[0m\n",
                        "\u001b[1;31mMySQLInterfaceError\u001b[0m: Commands out of sync; you can't run this command now",
                        "\nDuring handling of the above exception, another exception occurred:\n",
                        "\u001b[1;31mDatabaseError\u001b[0m                             Traceback (most recent call last)",
                        "\u001b[1;32m~\\AppData\\Local\\Temp/ipykernel_15136/709810271.py\u001b[0m in \u001b[0;36m<module>\u001b[1;34m\u001b[0m\n\u001b[1;32m----> 1\u001b[1;33m \u001b[0mtransaction\u001b[0m\u001b[1;33m(\u001b[0m\u001b[1;34m'a367f27015aef274485911c9eba41c06d9d60969ecb68f4083579ea6ae2773da'\u001b[0m\u001b[1;33m,\u001b[0m \u001b[1;34m'78759c7ca24bbdc41bfed933f9c57994812813e35f946b0e531736bda24eca4b'\u001b[0m\u001b[1;33m,\u001b[0m \u001b[1;36m5.0\u001b[0m\u001b[1;33m,\u001b[0m \u001b[1;34m'8d2e7996450d389f32246dcb3d9e495c439e705738aa566609da50d5dd9f0104'\u001b[0m\u001b[1;33m)\u001b[0m\u001b[1;33m\u001b[0m\u001b[1;33m\u001b[0m\u001b[0m\n\u001b[0m",
                        "\u001b[1;32m~\\AppData\\Local\\Temp/ipykernel_15136/3772711875.py\u001b[0m in \u001b[0;36mtransaction\u001b[1;34m(sender_id, receiver_id, amount, signing_key)\u001b[0m\n\u001b[0;32m     18\u001b[0m         \u001b[0msender_bal\u001b[0m \u001b[1;33m=\u001b[0m \u001b[0mcursor\u001b[0m\u001b[1;33m.\u001b[0m\u001b[0mfetchall\u001b[0m\u001b[1;33m(\u001b[0m\u001b[1;33m)\u001b[0m\u001b[1;33m\u001b[0m\u001b[1;33m\u001b[0m\u001b[0m\n\u001b[0;32m     19\u001b[0m         \u001b[0mquery\u001b[0m \u001b[1;33m=\u001b[0m \u001b[1;34m'''SELECT Balance FROM Users WHERE Public_Key=\"{Public_Key}\";\"'''\u001b[0m\u001b[1;33m.\u001b[0m\u001b[0mformat\u001b[0m\u001b[1;33m(\u001b[0m\u001b[0mPublic_Key\u001b[0m \u001b[1;33m=\u001b[0m \u001b[0mreceiver_id\u001b[0m\u001b[1;33m)\u001b[0m\u001b[1;33m\u001b[0m\u001b[1;33m\u001b[0m\u001b[0m\n\u001b[1;32m---> 20\u001b[1;33m         \u001b[0mcursor\u001b[0m\u001b[1;33m.\u001b[0m\u001b[0mexecute\u001b[0m\u001b[1;33m(\u001b[0m\u001b[0mquery\u001b[0m\u001b[1;33m)\u001b[0m\u001b[1;33m\u001b[0m\u001b[1;33m\u001b[0m\u001b[0m\n\u001b[0m\u001b[0;32m     21\u001b[0m \u001b[1;33m\u001b[0m\u001b[0m\n\u001b[0;32m     22\u001b[0m         \u001b[0mreceiver_bal\u001b[0m \u001b[1;33m=\u001b[0m \u001b[0mcursor\u001b[0m\u001b[1;33m.\u001b[0m\u001b[0mfetchall\u001b[0m\u001b[1;33m(\u001b[0m\u001b[1;33m)\u001b[0m\u001b[1;33m\u001b[0m\u001b[1;33m\u001b[0m\u001b[0m\n",
                        "\u001b[1;32m~\\AppData\\Local\\Programs\\Python\\Python39\\lib\\site-packages\\mysql\\connector\\cursor_cext.py\u001b[0m in \u001b[0;36mexecute\u001b[1;34m(self, operation, params, multi)\u001b[0m\n\u001b[0;32m    267\u001b[0m \u001b[1;33m\u001b[0m\u001b[0m\n\u001b[0;32m    268\u001b[0m         \u001b[1;32mtry\u001b[0m\u001b[1;33m:\u001b[0m\u001b[1;33m\u001b[0m\u001b[1;33m\u001b[0m\u001b[0m\n\u001b[1;32m--> 269\u001b[1;33m             result = self._cnx.cmd_query(stmt, raw=self._raw,\n\u001b[0m\u001b[0;32m    270\u001b[0m                                          \u001b[0mbuffered\u001b[0m\u001b[1;33m=\u001b[0m\u001b[0mself\u001b[0m\u001b[1;33m.\u001b[0m\u001b[0m_buffered\u001b[0m\u001b[1;33m,\u001b[0m\u001b[1;33m\u001b[0m\u001b[1;33m\u001b[0m\u001b[0m\n\u001b[0;32m    271\u001b[0m                                          raw_as_string=self._raw_as_string)\n",
                        "\u001b[1;32m~\\AppData\\Local\\Programs\\Python\\Python39\\lib\\site-packages\\mysql\\connector\\connection_cext.py\u001b[0m in \u001b[0;36mcmd_query\u001b[1;34m(self, query, raw, buffered, raw_as_string)\u001b[0m\n\u001b[0;32m    508\u001b[0m                                raw_as_string=raw_as_string)\n\u001b[0;32m    509\u001b[0m         \u001b[1;32mexcept\u001b[0m \u001b[0mMySQLInterfaceError\u001b[0m \u001b[1;32mas\u001b[0m \u001b[0mexc\u001b[0m\u001b[1;33m:\u001b[0m\u001b[1;33m\u001b[0m\u001b[1;33m\u001b[0m\u001b[0m\n\u001b[1;32m--> 510\u001b[1;33m             raise errors.get_mysql_exception(exc.errno, msg=exc.msg,\n\u001b[0m\u001b[0;32m    511\u001b[0m                                              sqlstate=exc.sqlstate)\n\u001b[0;32m    512\u001b[0m         \u001b[1;32mexcept\u001b[0m \u001b[0mAttributeError\u001b[0m\u001b[1;33m:\u001b[0m\u001b[1;33m\u001b[0m\u001b[1;33m\u001b[0m\u001b[0m\n",
                        "\u001b[1;31mDatabaseError\u001b[0m: 2014 (HY000): Commands out of sync; you can't run this command now"
                    ]
                }
            ],
            "metadata": {}
        }
    ],
    "metadata": {
        "orig_nbformat": 4,
        "language_info": {
            "name": "python",
            "version": "3.9.5",
            "mimetype": "text/x-python",
            "codemirror_mode": {
                "name": "ipython",
                "version": 3
            },
            "pygments_lexer": "ipython3",
            "nbconvert_exporter": "python",
            "file_extension": ".py"
        },
        "kernelspec": {
            "name": "python3",
            "display_name": "Python 3.9.5 64-bit"
        },
        "interpreter": {
            "hash": "701449839e10203efe60d853a9fa0d9a1b89d4cd9b77a09c64dd37d268332b4f"
        }
    },
    "nbformat": 4,
    "nbformat_minor": 2
}