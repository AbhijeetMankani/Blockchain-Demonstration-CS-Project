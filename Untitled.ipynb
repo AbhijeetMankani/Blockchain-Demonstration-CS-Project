{
 "cells": [
  {
   "cell_type": "code",
   "execution_count": 1,
   "metadata": {},
   "outputs": [],
   "source": [
    "import pandas as pd"
   ]
  },
  {
   "cell_type": "code",
   "execution_count": 2,
   "metadata": {},
   "outputs": [],
   "source": [
    "def transaction(sender_id, receiver_id, amount):\n",
    "    if(amount < 0): \n",
    "        print(\"Invalid Amount\")\n",
    "        return\n",
    "    Acc = pd.read_csv(r'C:\\Users\\Sunil\\Desktop\\Abhijeet\\TSS\\CS\\Grade 12 Project\\BlockChain\\Accounts.csv')\n",
    "\n",
    "    for i in range(len(Acc)):\n",
    "        if(Acc.Public_Key[i] == sender_id):\n",
    "            s_i = i\n",
    "        if(Acc.Public_Key[i] == receiver_id):\n",
    "            r_i = i\n",
    "\n",
    "    if(s_i == None):\n",
    "        print(\"Invalid Sender's ID\")\n",
    "        return\n",
    "    if(r_i == None):\n",
    "        print(\"Invalid Reciever's ID\")\n",
    "        return\n",
    "\n",
    "    if(Acc.Balance[s_i] >= amount):\n",
    "        Acc_ =  Acc.copy()\n",
    "        Acc_.loc[s_i, 'Balance'] -= amount\n",
    "\n",
    "        Acc_.loc[r_i, 'Balance'] += amount\n",
    "        print(\"Transaction Successful!\")\n",
    "        Acc_.loc[s_i, 'Transactions_Done'] += 1\n",
    "        Acc_.loc[r_i, 'Transactions_Done'] += 1\n",
    "        Acc = Acc_.copy()\n",
    "    else:\n",
    "        print(\"Insufficient Balance\")\n",
    "    print(Acc)\n",
    "    Acc.to_csv('Accounts.csv')\n"
   ]
  },
  {
   "cell_type": "code",
   "execution_count": 3,
   "metadata": {},
   "outputs": [
    {
     "output_type": "error",
     "ename": "UnboundLocalError",
     "evalue": "local variable 's_i' referenced before assignment",
     "traceback": [
      "\u001b[1;31m---------------------------------------------------------------------------\u001b[0m",
      "\u001b[1;31mUnboundLocalError\u001b[0m                         Traceback (most recent call last)",
      "\u001b[1;32m<ipython-input-3-dff20b5bc47a>\u001b[0m in \u001b[0;36m<module>\u001b[1;34m\u001b[0m\n\u001b[1;32m----> 1\u001b[1;33m \u001b[0mtransaction\u001b[0m\u001b[1;33m(\u001b[0m\u001b[1;34m'7f2253d7e228b22a08bda1f09c516f6fead81df6536eb02fa991a34bb38d9be8'\u001b[0m\u001b[1;33m,\u001b[0m \u001b[1;34m'968076be2e38cf897d4d6cea3faca9c037e1a4e3b4b7744fb2533e07751bd30a'\u001b[0m\u001b[1;33m,\u001b[0m \u001b[1;36m10.5\u001b[0m\u001b[1;33m)\u001b[0m\u001b[1;33m\u001b[0m\u001b[1;33m\u001b[0m\u001b[0m\n\u001b[0m",
      "\u001b[1;32m<ipython-input-2-ab82b214d415>\u001b[0m in \u001b[0;36mtransaction\u001b[1;34m(sender_id, receiver_id, amount)\u001b[0m\n\u001b[0;32m     11\u001b[0m             \u001b[0mr_i\u001b[0m \u001b[1;33m=\u001b[0m \u001b[0mi\u001b[0m\u001b[1;33m\u001b[0m\u001b[1;33m\u001b[0m\u001b[0m\n\u001b[0;32m     12\u001b[0m \u001b[1;33m\u001b[0m\u001b[0m\n\u001b[1;32m---> 13\u001b[1;33m     \u001b[1;32mif\u001b[0m\u001b[1;33m(\u001b[0m\u001b[0ms_i\u001b[0m \u001b[1;33m==\u001b[0m \u001b[1;32mNone\u001b[0m\u001b[1;33m)\u001b[0m\u001b[1;33m:\u001b[0m\u001b[1;33m\u001b[0m\u001b[1;33m\u001b[0m\u001b[0m\n\u001b[0m\u001b[0;32m     14\u001b[0m         \u001b[0mprint\u001b[0m\u001b[1;33m(\u001b[0m\u001b[1;34m\"Invalid Sender's ID\"\u001b[0m\u001b[1;33m)\u001b[0m\u001b[1;33m\u001b[0m\u001b[1;33m\u001b[0m\u001b[0m\n\u001b[0;32m     15\u001b[0m         \u001b[1;32mreturn\u001b[0m\u001b[1;33m\u001b[0m\u001b[1;33m\u001b[0m\u001b[0m\n",
      "\u001b[1;31mUnboundLocalError\u001b[0m: local variable 's_i' referenced before assignment"
     ]
    }
   ],
   "source": [
    "transaction('7f2253d7e228b22a08bda1f09c516f6fead81df6536eb02fa991a34bb38d9be8', '968076be2e38cf897d4d6cea3faca9c037e1a4e3b4b7744fb2533e07751bd30a', 10.5)"
   ]
  },
  {
   "cell_type": "code",
   "execution_count": 2,
   "metadata": {},
   "outputs": [],
   "source": [
    "import pandas as pd"
   ]
  },
  {
   "cell_type": "code",
   "execution_count": 6,
   "metadata": {},
   "outputs": [],
   "source": [
    "Acc = pd.read_csv(r'C:\\Users\\Sunil\\Desktop\\Abhijeet\\TSS\\CS\\Grade 12 Project\\BlockChain\\Accounts.csv')"
   ]
  },
  {
   "cell_type": "code",
   "execution_count": 27,
   "metadata": {},
   "outputs": [
    {
     "output_type": "execute_result",
     "data": {
      "text/plain": [
       "0"
      ]
     },
     "metadata": {},
     "execution_count": 27
    }
   ],
   "source": [
    "Acc.Public_Key.searchsorted('8722616204217eddb39e7df969e0698aed8e599ba62ed2de1ce49b03ade0fede')"
   ]
  }
 ],
 "metadata": {
  "kernelspec": {
   "name": "python392jvsc74a57bd063fd5069d213b44bf678585dea6b12cceca9941eaf7f819626cde1f2670de90d",
   "display_name": "Python 3.9.2 64-bit"
  },
  "language_info": {
   "codemirror_mode": {
    "name": "ipython",
    "version": 3
   },
   "file_extension": ".py",
   "mimetype": "text/x-python",
   "name": "python",
   "nbconvert_exporter": "python",
   "pygments_lexer": "ipython3",
   "version": "3.9.2"
  },
  "varInspector": {
   "cols": {
    "lenName": 16,
    "lenType": 16,
    "lenVar": 40
   },
   "kernels_config": {
    "python": {
     "delete_cmd_postfix": "",
     "delete_cmd_prefix": "del ",
     "library": "var_list.py",
     "varRefreshCmd": "print(var_dic_list())"
    },
    "r": {
     "delete_cmd_postfix": ") ",
     "delete_cmd_prefix": "rm(",
     "library": "var_list.r",
     "varRefreshCmd": "cat(var_dic_list()) "
    }
   },
   "types_to_exclude": [
    "module",
    "function",
    "builtin_function_or_method",
    "instance",
    "_Feature"
   ],
   "window_display": false
  },
  "metadata": {
   "interpreter": {
    "hash": "63fd5069d213b44bf678585dea6b12cceca9941eaf7f819626cde1f2670de90d"
   }
  }
 },
 "nbformat": 4,
 "nbformat_minor": 4
}