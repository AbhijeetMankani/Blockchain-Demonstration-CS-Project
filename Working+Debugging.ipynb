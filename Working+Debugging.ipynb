{
 "cells": [
  {
   "cell_type": "code",
   "execution_count": 29,
   "metadata": {},
   "outputs": [],
   "source": [
    "import pandas as pd"
   ]
  },
  {
   "cell_type": "code",
   "execution_count": 86,
   "metadata": {},
   "outputs": [],
   "source": [
    "\n",
    "Acc = pd.read_csv(r'C:\\Users\\Sunil\\Desktop\\Abhijeet\\TSS\\CS\\Grade 12 Project\\BlockChain\\Accounts.csv')\n",
    "\n",
    "# Acc.Public_Key[Acc.Public_Key  == ].index.tolist()"
   ]
  },
  {
   "source": [
    "No more Additional Columns at start of csv files\n"
   ],
   "cell_type": "markdown",
   "metadata": {}
  },
  {
   "cell_type": "code",
   "execution_count": 87,
   "metadata": {},
   "outputs": [],
   "source": [
    "Acc.loc[len(Acc)] = [1, 2, 3, 4, 5]\n",
    "# Adding new rows"
   ]
  },
  {
   "cell_type": "code",
   "execution_count": 88,
   "metadata": {},
   "outputs": [],
   "source": [
    "Acc.to_csv(r'C:\\Users\\Sunil\\Desktop\\Abhijeet\\TSS\\CS\\Grade 12 Project\\BlockChain\\Accounts.csv', index=False)"
   ]
  },
  {
   "cell_type": "code",
   "execution_count": 19,
   "metadata": {},
   "outputs": [],
   "source": [
    "def transaction(sender_id, receiver_id, amount):\n",
    "    if(amount < 0): \n",
    "        print(\"Invalid Amount\")\n",
    "        return\n",
    "    Acc = pd.read_csv(r'C:\\Users\\Sunil\\Desktop\\Abhijeet\\TSS\\CS\\Grade 12 Project\\BlockChain\\Accounts.csv')\n",
    "\n",
    "    for i in range(len(Acc)):\n",
    "        if(Acc.Public_Key[i] == sender_id):\n",
    "            s_i = i\n",
    "        if(Acc.Public_Key[i] == receiver_id):\n",
    "            r_i = i\n",
    "\n",
    "    if(s_i == None):\n",
    "        print(\"Invalid Sender's ID\")\n",
    "        return\n",
    "    if(r_i == None):\n",
    "        print(\"Invalid Reciever's ID\")\n",
    "        return\n",
    "\n",
    "    if(Acc.Balance[s_i] >= amount):\n",
    "        Acc_ =  Acc.copy()\n",
    "        Acc_.loc[s_i, 'Balance'] -= amount\n",
    "\n",
    "        Acc_.loc[r_i, 'Balance'] += amount\n",
    "        print(\"Transaction Successful!\")\n",
    "        Acc_.loc[s_i, 'Transactions_Done'] += 1\n",
    "        Acc_.loc[r_i, 'Transactions_Done'] += 1\n",
    "        Acc = Acc_.copy()\n",
    "    else:\n",
    "        print(\"Insufficient Balance\")\n",
    "    print(Acc)\n",
    "    del Acc.index\n",
    "    Acc.to_csv('Accounts.csv')\n"
   ]
  },
  {
   "source": [],
   "cell_type": "markdown",
   "metadata": {}
  },
  {
   "cell_type": "code",
   "execution_count": 3,
   "metadata": {},
   "outputs": [
    {
     "output_type": "error",
     "ename": "UnboundLocalError",
     "evalue": "local variable 's_i' referenced before assignment",
     "traceback": [
      "\u001b[1;31m---------------------------------------------------------------------------\u001b[0m",
      "\u001b[1;31mUnboundLocalError\u001b[0m                         Traceback (most recent call last)",
      "\u001b[1;32m<ipython-input-3-dff20b5bc47a>\u001b[0m in \u001b[0;36m<module>\u001b[1;34m\u001b[0m\n\u001b[1;32m----> 1\u001b[1;33m \u001b[0mtransaction\u001b[0m\u001b[1;33m(\u001b[0m\u001b[1;34m'7f2253d7e228b22a08bda1f09c516f6fead81df6536eb02fa991a34bb38d9be8'\u001b[0m\u001b[1;33m,\u001b[0m \u001b[1;34m'968076be2e38cf897d4d6cea3faca9c037e1a4e3b4b7744fb2533e07751bd30a'\u001b[0m\u001b[1;33m,\u001b[0m \u001b[1;36m10.5\u001b[0m\u001b[1;33m)\u001b[0m\u001b[1;33m\u001b[0m\u001b[1;33m\u001b[0m\u001b[0m\n\u001b[0m",
      "\u001b[1;32m<ipython-input-2-ab82b214d415>\u001b[0m in \u001b[0;36mtransaction\u001b[1;34m(sender_id, receiver_id, amount)\u001b[0m\n\u001b[0;32m     11\u001b[0m             \u001b[0mr_i\u001b[0m \u001b[1;33m=\u001b[0m \u001b[0mi\u001b[0m\u001b[1;33m\u001b[0m\u001b[1;33m\u001b[0m\u001b[0m\n\u001b[0;32m     12\u001b[0m \u001b[1;33m\u001b[0m\u001b[0m\n\u001b[1;32m---> 13\u001b[1;33m     \u001b[1;32mif\u001b[0m\u001b[1;33m(\u001b[0m\u001b[0ms_i\u001b[0m \u001b[1;33m==\u001b[0m \u001b[1;32mNone\u001b[0m\u001b[1;33m)\u001b[0m\u001b[1;33m:\u001b[0m\u001b[1;33m\u001b[0m\u001b[1;33m\u001b[0m\u001b[0m\n\u001b[0m\u001b[0;32m     14\u001b[0m         \u001b[0mprint\u001b[0m\u001b[1;33m(\u001b[0m\u001b[1;34m\"Invalid Sender's ID\"\u001b[0m\u001b[1;33m)\u001b[0m\u001b[1;33m\u001b[0m\u001b[1;33m\u001b[0m\u001b[0m\n\u001b[0;32m     15\u001b[0m         \u001b[1;32mreturn\u001b[0m\u001b[1;33m\u001b[0m\u001b[1;33m\u001b[0m\u001b[0m\n",
      "\u001b[1;31mUnboundLocalError\u001b[0m: local variable 's_i' referenced before assignment"
     ]
    }
   ],
   "source": [
    "transaction('7f2253d7e228b22a08bda1f09c516f6fead81df6536eb02fa991a34bb38d9be8', '968076be2e38cf897d4d6cea3faca9c037e1a4e3b4b7744fb2533e07751bd30a', 10.5)"
   ]
  },
  {
   "cell_type": "code",
   "execution_count": 2,
   "metadata": {},
   "outputs": [],
   "source": [
    "import pandas as pd"
   ]
  },
  {
   "cell_type": "code",
   "execution_count": 6,
   "metadata": {},
   "outputs": [],
   "source": [
    "Acc = pd.read_csv(r'C:\\Users\\Sunil\\Desktop\\Abhijeet\\TSS\\CS\\Grade 12 Project\\BlockChain\\Accounts.csv')"
   ]
  },
  {
   "cell_type": "code",
   "execution_count": 27,
   "metadata": {},
   "outputs": [
    {
     "output_type": "execute_result",
     "data": {
      "text/plain": [
       "0"
      ]
     },
     "metadata": {},
     "execution_count": 27
    }
   ],
   "source": [
    "Acc.Public_Key.searchsorted('8722616204217eddb39e7df969e0698aed8e599ba62ed2de1ce49b03ade0fede')"
   ]
  },
  {
   "source": [
    "Pycryptodome Library: for Digital Signatures"
   ],
   "cell_type": "markdown",
   "metadata": {}
  },
  {
   "cell_type": "code",
   "execution_count": 1,
   "metadata": {},
   "outputs": [],
   "source": [
    "import Crypto\n",
    "from Crypto.PublicKey import RSA\n",
    "from Crypto.Random import get_random_bytes\n",
    "from Crypto.Cipher import AES, PKCS1_OAEP\n",
    "import base64"
   ]
  },
  {
   "cell_type": "code",
   "execution_count": 2,
   "metadata": {},
   "outputs": [],
   "source": [
    "def rsakeys():  \n",
    "     length=1024  \n",
    "     privatekey = RSA.generate(length, Random.new().read)  \n",
    "     publickey = privatekey.publickey()  \n",
    "     return privatekey, publickey"
   ]
  },
  {
   "cell_type": "code",
   "execution_count": 5,
   "metadata": {},
   "outputs": [],
   "source": [
    "a=rsakeys()"
   ]
  },
  {
   "cell_type": "code",
   "execution_count": 11,
   "metadata": {},
   "outputs": [],
   "source": [
    "def encrypt(rsa_publickey,plain_text):\n",
    "     cipher_text=rsa_publickey.encrypt(plain_text,32)[0]\n",
    "     b64cipher=base64.b64encode(cipher_text)\n",
    "     return b64cipher\n"
   ]
  },
  {
   "cell_type": "code",
   "execution_count": null,
   "metadata": {},
   "outputs": [],
   "source": [
    "a[0].encrypt(\"Hello\", 32)"
   ]
  },
  {
   "cell_type": "code",
   "execution_count": 12,
   "metadata": {},
   "outputs": [
    {
     "output_type": "error",
     "ename": "NotImplementedError",
     "evalue": "Use module Crypto.Cipher.PKCS1_OAEP instead",
     "traceback": [
      "\u001b[1;31m---------------------------------------------------------------------------\u001b[0m",
      "\u001b[1;31mNotImplementedError\u001b[0m                       Traceback (most recent call last)",
      "\u001b[1;32m<ipython-input-12-45fc6b5ce52f>\u001b[0m in \u001b[0;36m<module>\u001b[1;34m\u001b[0m\n\u001b[1;32m----> 1\u001b[1;33m \u001b[0mencrypt\u001b[0m\u001b[1;33m(\u001b[0m\u001b[0ma\u001b[0m\u001b[1;33m[\u001b[0m\u001b[1;36m0\u001b[0m\u001b[1;33m]\u001b[0m\u001b[1;33m,\u001b[0m \u001b[1;34m\"Hello\"\u001b[0m\u001b[1;33m)\u001b[0m\u001b[1;33m\u001b[0m\u001b[1;33m\u001b[0m\u001b[0m\n\u001b[0m",
      "\u001b[1;32m<ipython-input-11-a8a6fdda4cb5>\u001b[0m in \u001b[0;36mencrypt\u001b[1;34m(rsa_publickey, plain_text)\u001b[0m\n\u001b[0;32m      1\u001b[0m \u001b[1;32mdef\u001b[0m \u001b[0mencrypt\u001b[0m\u001b[1;33m(\u001b[0m\u001b[0mrsa_publickey\u001b[0m\u001b[1;33m,\u001b[0m\u001b[0mplain_text\u001b[0m\u001b[1;33m)\u001b[0m\u001b[1;33m:\u001b[0m\u001b[1;33m\u001b[0m\u001b[1;33m\u001b[0m\u001b[0m\n\u001b[1;32m----> 2\u001b[1;33m      \u001b[0mcipher_text\u001b[0m\u001b[1;33m=\u001b[0m\u001b[0mrsa_publickey\u001b[0m\u001b[1;33m.\u001b[0m\u001b[0mencrypt\u001b[0m\u001b[1;33m(\u001b[0m\u001b[0mplain_text\u001b[0m\u001b[1;33m,\u001b[0m\u001b[1;36m32\u001b[0m\u001b[1;33m)\u001b[0m\u001b[1;33m[\u001b[0m\u001b[1;36m0\u001b[0m\u001b[1;33m]\u001b[0m\u001b[1;33m\u001b[0m\u001b[1;33m\u001b[0m\u001b[0m\n\u001b[0m\u001b[0;32m      3\u001b[0m      \u001b[0mb64cipher\u001b[0m\u001b[1;33m=\u001b[0m\u001b[0mbase64\u001b[0m\u001b[1;33m.\u001b[0m\u001b[0mb64encode\u001b[0m\u001b[1;33m(\u001b[0m\u001b[0mcipher_text\u001b[0m\u001b[1;33m)\u001b[0m\u001b[1;33m\u001b[0m\u001b[1;33m\u001b[0m\u001b[0m\n\u001b[0;32m      4\u001b[0m      \u001b[1;32mreturn\u001b[0m \u001b[0mb64cipher\u001b[0m\u001b[1;33m\u001b[0m\u001b[1;33m\u001b[0m\u001b[0m\n",
      "\u001b[1;32mC:\\Python39\\lib\\site-packages\\Crypto\\PublicKey\\RSA.py\u001b[0m in \u001b[0;36mencrypt\u001b[1;34m(self, plaintext, K)\u001b[0m\n\u001b[0;32m    377\u001b[0m \u001b[1;33m\u001b[0m\u001b[0m\n\u001b[0;32m    378\u001b[0m     \u001b[1;32mdef\u001b[0m \u001b[0mencrypt\u001b[0m\u001b[1;33m(\u001b[0m\u001b[0mself\u001b[0m\u001b[1;33m,\u001b[0m \u001b[0mplaintext\u001b[0m\u001b[1;33m,\u001b[0m \u001b[0mK\u001b[0m\u001b[1;33m)\u001b[0m\u001b[1;33m:\u001b[0m\u001b[1;33m\u001b[0m\u001b[1;33m\u001b[0m\u001b[0m\n\u001b[1;32m--> 379\u001b[1;33m         \u001b[1;32mraise\u001b[0m \u001b[0mNotImplementedError\u001b[0m\u001b[1;33m(\u001b[0m\u001b[1;34m\"Use module Crypto.Cipher.PKCS1_OAEP instead\"\u001b[0m\u001b[1;33m)\u001b[0m\u001b[1;33m\u001b[0m\u001b[1;33m\u001b[0m\u001b[0m\n\u001b[0m\u001b[0;32m    380\u001b[0m \u001b[1;33m\u001b[0m\u001b[0m\n\u001b[0;32m    381\u001b[0m     \u001b[1;32mdef\u001b[0m \u001b[0mdecrypt\u001b[0m\u001b[1;33m(\u001b[0m\u001b[0mself\u001b[0m\u001b[1;33m,\u001b[0m \u001b[0mciphertext\u001b[0m\u001b[1;33m)\u001b[0m\u001b[1;33m:\u001b[0m\u001b[1;33m\u001b[0m\u001b[1;33m\u001b[0m\u001b[0m\n",
      "\u001b[1;31mNotImplementedError\u001b[0m: Use module Crypto.Cipher.PKCS1_OAEP instead"
     ]
    }
   ],
   "source": [
    "encrypt(a[0], \"Hello\")"
   ]
  },
  {
   "source": [
    "Using PyNacl"
   ],
   "cell_type": "markdown",
   "metadata": {}
  },
  {
   "cell_type": "code",
   "execution_count": 14,
   "metadata": {},
   "outputs": [],
   "source": [
    "import nacl.encoding\n",
    "import nacl.signing\n",
    "\n",
    "# Generate a new random signing key\n",
    "signing_key = nacl.signing.SigningKey.generate()\n",
    "\n",
    "# Sign a message with the signing key\n",
    "signed = signing_key.sign(b\"Attack at Dawn\")\n",
    "\n",
    "# Obtain the verify key for a given signing key\n",
    "verify_key = signing_key.verify_key\n",
    "\n",
    "# Serialize the verify key to send it to a third party\n",
    "verify_key_hex = verify_key.encode(encoder=nacl.encoding.HexEncoder)"
   ]
  },
  {
   "cell_type": "code",
   "execution_count": 39,
   "metadata": {},
   "outputs": [
    {
     "output_type": "stream",
     "name": "stdout",
     "text": [
      "Help on SignedMessage in module nacl.signing object:\n\nclass SignedMessage(builtins.bytes)\n |  A bytes subclass that holds a messaged that has been signed by a\n |  :class:`SigningKey`.\n |  \n |  Method resolution order:\n |      SignedMessage\n |      builtins.bytes\n |      builtins.object\n |  \n |  Readonly properties defined here:\n |  \n |  message\n |      The message contained within the :class:`SignedMessage`.\n |  \n |  signature\n |      The signature contained within the :class:`SignedMessage`.\n |  \n |  ----------------------------------------------------------------------\n |  Data descriptors defined here:\n |  \n |  __dict__\n |      dictionary for instance variables (if defined)\n |  \n |  ----------------------------------------------------------------------\n |  Methods inherited from builtins.bytes:\n |  \n |  __add__(self, value, /)\n |      Return self+value.\n |  \n |  __contains__(self, key, /)\n |      Return key in self.\n |  \n |  __eq__(self, value, /)\n |      Return self==value.\n |  \n |  __ge__(self, value, /)\n |      Return self>=value.\n |  \n |  __getattribute__(self, name, /)\n |      Return getattr(self, name).\n |  \n |  __getitem__(self, key, /)\n |      Return self[key].\n |  \n |  __getnewargs__(...)\n |  \n |  __gt__(self, value, /)\n |      Return self>value.\n |  \n |  __hash__(self, /)\n |      Return hash(self).\n |  \n |  __iter__(self, /)\n |      Implement iter(self).\n |  \n |  __le__(self, value, /)\n |      Return self<=value.\n |  \n |  __len__(self, /)\n |      Return len(self).\n |  \n |  __lt__(self, value, /)\n |      Return self<value.\n |  \n |  __mod__(self, value, /)\n |      Return self%value.\n |  \n |  __mul__(self, value, /)\n |      Return self*value.\n |  \n |  __ne__(self, value, /)\n |      Return self!=value.\n |  \n |  __repr__(self, /)\n |      Return repr(self).\n |  \n |  __rmod__(self, value, /)\n |      Return value%self.\n |  \n |  __rmul__(self, value, /)\n |      Return value*self.\n |  \n |  __str__(self, /)\n |      Return str(self).\n |  \n |  capitalize(...)\n |      B.capitalize() -> copy of B\n |      \n |      Return a copy of B with only its first character capitalized (ASCII)\n |      and the rest lower-cased.\n |  \n |  center(self, width, fillchar=b' ', /)\n |      Return a centered string of length width.\n |      \n |      Padding is done using the specified fill character.\n |  \n |  count(...)\n |      B.count(sub[, start[, end]]) -> int\n |      \n |      Return the number of non-overlapping occurrences of subsection sub in\n |      bytes B[start:end].  Optional arguments start and end are interpreted\n |      as in slice notation.\n |  \n |  decode(self, /, encoding='utf-8', errors='strict')\n |      Decode the bytes using the codec registered for encoding.\n |      \n |      encoding\n |        The encoding with which to decode the bytes.\n |      errors\n |        The error handling scheme to use for the handling of decoding errors.\n |        The default is 'strict' meaning that decoding errors raise a\n |        UnicodeDecodeError. Other possible values are 'ignore' and 'replace'\n |        as well as any other name registered with codecs.register_error that\n |        can handle UnicodeDecodeErrors.\n |  \n |  endswith(...)\n |      B.endswith(suffix[, start[, end]]) -> bool\n |      \n |      Return True if B ends with the specified suffix, False otherwise.\n |      With optional start, test B beginning at that position.\n |      With optional end, stop comparing B at that position.\n |      suffix can also be a tuple of bytes to try.\n |  \n |  expandtabs(self, /, tabsize=8)\n |      Return a copy where all tab characters are expanded using spaces.\n |      \n |      If tabsize is not given, a tab size of 8 characters is assumed.\n |  \n |  find(...)\n |      B.find(sub[, start[, end]]) -> int\n |      \n |      Return the lowest index in B where subsection sub is found,\n |      such that sub is contained within B[start,end].  Optional\n |      arguments start and end are interpreted as in slice notation.\n |      \n |      Return -1 on failure.\n |  \n |  hex(...)\n |      Create a str of hexadecimal numbers from a bytes object.\n |      \n |        sep\n |          An optional single character or byte to separate hex bytes.\n |        bytes_per_sep\n |          How many bytes between separators.  Positive values count from the\n |          right, negative values count from the left.\n |      \n |      Example:\n |      >>> value = b'\\xb9\\x01\\xef'\n |      >>> value.hex()\n |      'b901ef'\n |      >>> value.hex(':')\n |      'b9:01:ef'\n |      >>> value.hex(':', 2)\n |      'b9:01ef'\n |      >>> value.hex(':', -2)\n |      'b901:ef'\n |  \n |  index(...)\n |      B.index(sub[, start[, end]]) -> int\n |      \n |      Return the lowest index in B where subsection sub is found,\n |      such that sub is contained within B[start,end].  Optional\n |      arguments start and end are interpreted as in slice notation.\n |      \n |      Raises ValueError when the subsection is not found.\n |  \n |  isalnum(...)\n |      B.isalnum() -> bool\n |      \n |      Return True if all characters in B are alphanumeric\n |      and there is at least one character in B, False otherwise.\n |  \n |  isalpha(...)\n |      B.isalpha() -> bool\n |      \n |      Return True if all characters in B are alphabetic\n |      and there is at least one character in B, False otherwise.\n |  \n |  isascii(...)\n |      B.isascii() -> bool\n |      \n |      Return True if B is empty or all characters in B are ASCII,\n |      False otherwise.\n |  \n |  isdigit(...)\n |      B.isdigit() -> bool\n |      \n |      Return True if all characters in B are digits\n |      and there is at least one character in B, False otherwise.\n |  \n |  islower(...)\n |      B.islower() -> bool\n |      \n |      Return True if all cased characters in B are lowercase and there is\n |      at least one cased character in B, False otherwise.\n |  \n |  isspace(...)\n |      B.isspace() -> bool\n |      \n |      Return True if all characters in B are whitespace\n |      and there is at least one character in B, False otherwise.\n |  \n |  istitle(...)\n |      B.istitle() -> bool\n |      \n |      Return True if B is a titlecased string and there is at least one\n |      character in B, i.e. uppercase characters may only follow uncased\n |      characters and lowercase characters only cased ones. Return False\n |      otherwise.\n |  \n |  isupper(...)\n |      B.isupper() -> bool\n |      \n |      Return True if all cased characters in B are uppercase and there is\n |      at least one cased character in B, False otherwise.\n |  \n |  join(self, iterable_of_bytes, /)\n |      Concatenate any number of bytes objects.\n |      \n |      The bytes whose method is called is inserted in between each pair.\n |      \n |      The result is returned as a new bytes object.\n |      \n |      Example: b'.'.join([b'ab', b'pq', b'rs']) -> b'ab.pq.rs'.\n |  \n |  ljust(self, width, fillchar=b' ', /)\n |      Return a left-justified string of length width.\n |      \n |      Padding is done using the specified fill character.\n |  \n |  lower(...)\n |      B.lower() -> copy of B\n |      \n |      Return a copy of B with all ASCII characters converted to lowercase.\n |  \n |  lstrip(self, bytes=None, /)\n |      Strip leading bytes contained in the argument.\n |      \n |      If the argument is omitted or None, strip leading  ASCII whitespace.\n |  \n |  partition(self, sep, /)\n |      Partition the bytes into three parts using the given separator.\n |      \n |      This will search for the separator sep in the bytes. If the separator is found,\n |      returns a 3-tuple containing the part before the separator, the separator\n |      itself, and the part after it.\n |      \n |      If the separator is not found, returns a 3-tuple containing the original bytes\n |      object and two empty bytes objects.\n |  \n |  removeprefix(self, prefix, /)\n |      Return a bytes object with the given prefix string removed if present.\n |      \n |      If the bytes starts with the prefix string, return bytes[len(prefix):].\n |      Otherwise, return a copy of the original bytes.\n |  \n |  removesuffix(self, suffix, /)\n |      Return a bytes object with the given suffix string removed if present.\n |      \n |      If the bytes ends with the suffix string and that suffix is not empty,\n |      return bytes[:-len(prefix)].  Otherwise, return a copy of the original\n |      bytes.\n |  \n |  replace(self, old, new, count=-1, /)\n |      Return a copy with all occurrences of substring old replaced by new.\n |      \n |        count\n |          Maximum number of occurrences to replace.\n |          -1 (the default value) means replace all occurrences.\n |      \n |      If the optional argument count is given, only the first count occurrences are\n |      replaced.\n |  \n |  rfind(...)\n |      B.rfind(sub[, start[, end]]) -> int\n |      \n |      Return the highest index in B where subsection sub is found,\n |      such that sub is contained within B[start,end].  Optional\n |      arguments start and end are interpreted as in slice notation.\n |      \n |      Return -1 on failure.\n |  \n |  rindex(...)\n |      B.rindex(sub[, start[, end]]) -> int\n |      \n |      Return the highest index in B where subsection sub is found,\n |      such that sub is contained within B[start,end].  Optional\n |      arguments start and end are interpreted as in slice notation.\n |      \n |      Raise ValueError when the subsection is not found.\n |  \n |  rjust(self, width, fillchar=b' ', /)\n |      Return a right-justified string of length width.\n |      \n |      Padding is done using the specified fill character.\n |  \n |  rpartition(self, sep, /)\n |      Partition the bytes into three parts using the given separator.\n |      \n |      This will search for the separator sep in the bytes, starting at the end. If\n |      the separator is found, returns a 3-tuple containing the part before the\n |      separator, the separator itself, and the part after it.\n |      \n |      If the separator is not found, returns a 3-tuple containing two empty bytes\n |      objects and the original bytes object.\n |  \n |  rsplit(self, /, sep=None, maxsplit=-1)\n |      Return a list of the sections in the bytes, using sep as the delimiter.\n |      \n |        sep\n |          The delimiter according which to split the bytes.\n |          None (the default value) means split on ASCII whitespace characters\n |          (space, tab, return, newline, formfeed, vertical tab).\n |        maxsplit\n |          Maximum number of splits to do.\n |          -1 (the default value) means no limit.\n |      \n |      Splitting is done starting at the end of the bytes and working to the front.\n |  \n |  rstrip(self, bytes=None, /)\n |      Strip trailing bytes contained in the argument.\n |      \n |      If the argument is omitted or None, strip trailing ASCII whitespace.\n |  \n |  split(self, /, sep=None, maxsplit=-1)\n |      Return a list of the sections in the bytes, using sep as the delimiter.\n |      \n |      sep\n |        The delimiter according which to split the bytes.\n |        None (the default value) means split on ASCII whitespace characters\n |        (space, tab, return, newline, formfeed, vertical tab).\n |      maxsplit\n |        Maximum number of splits to do.\n |        -1 (the default value) means no limit.\n |  \n |  splitlines(self, /, keepends=False)\n |      Return a list of the lines in the bytes, breaking at line boundaries.\n |      \n |      Line breaks are not included in the resulting list unless keepends is given and\n |      true.\n |  \n |  startswith(...)\n |      B.startswith(prefix[, start[, end]]) -> bool\n |      \n |      Return True if B starts with the specified prefix, False otherwise.\n |      With optional start, test B beginning at that position.\n |      With optional end, stop comparing B at that position.\n |      prefix can also be a tuple of bytes to try.\n |  \n |  strip(self, bytes=None, /)\n |      Strip leading and trailing bytes contained in the argument.\n |      \n |      If the argument is omitted or None, strip leading and trailing ASCII whitespace.\n |  \n |  swapcase(...)\n |      B.swapcase() -> copy of B\n |      \n |      Return a copy of B with uppercase ASCII characters converted\n |      to lowercase ASCII and vice versa.\n |  \n |  title(...)\n |      B.title() -> copy of B\n |      \n |      Return a titlecased version of B, i.e. ASCII words start with uppercase\n |      characters, all remaining cased characters have lowercase.\n |  \n |  translate(self, table, /, delete=b'')\n |      Return a copy with each character mapped by the given translation table.\n |      \n |        table\n |          Translation table, which must be a bytes object of length 256.\n |      \n |      All characters occurring in the optional argument delete are removed.\n |      The remaining characters are mapped through the given translation table.\n |  \n |  upper(...)\n |      B.upper() -> copy of B\n |      \n |      Return a copy of B with all ASCII characters converted to uppercase.\n |  \n |  zfill(self, width, /)\n |      Pad a numeric string with zeros on the left, to fill a field of the given width.\n |      \n |      The original string is never truncated.\n |  \n |  ----------------------------------------------------------------------\n |  Class methods inherited from builtins.bytes:\n |  \n |  fromhex(string, /) from builtins.type\n |      Create a bytes object from a string of hexadecimal numbers.\n |      \n |      Spaces between two numbers are accepted.\n |      Example: bytes.fromhex('B9 01EF') -> b'\\\\xb9\\\\x01\\\\xef'.\n |  \n |  ----------------------------------------------------------------------\n |  Static methods inherited from builtins.bytes:\n |  \n |  __new__(*args, **kwargs) from builtins.type\n |      Create and return a new object.  See help(type) for accurate signature.\n |  \n |  maketrans(frm, to, /)\n |      Return a translation table useable for the bytes or bytearray translate method.\n |      \n |      The returned table will be one where each byte in frm is mapped to the byte at\n |      the same position in to.\n |      \n |      The bytes objects frm and to must be of the same length.\n\n"
     ]
    }
   ],
   "source": [
    "help(signing_key.sign(b\"hello\"))"
   ]
  },
  {
   "cell_type": "code",
   "execution_count": 83,
   "metadata": {},
   "outputs": [
    {
     "output_type": "execute_result",
     "data": {
      "text/plain": [
       "'fde474a71e3cb78a3f74a9670fb9610f0311fb0060c2468ed54faa779bbec617a9c632bde52495e5c5e12b0d2ec71183b66dded759a2e95e3e53f607fd594e09'"
      ]
     },
     "metadata": {},
     "execution_count": 83
    }
   ],
   "source": [
    "a.signature.hex()"
   ]
  },
  {
   "cell_type": "code",
   "execution_count": 85,
   "metadata": {},
   "outputs": [
    {
     "output_type": "error",
     "ename": "UnicodeDecodeError",
     "evalue": "'utf-8' codec can't decode byte 0xfd in position 0: invalid start byte",
     "traceback": [
      "\u001b[1;31m---------------------------------------------------------------------------\u001b[0m",
      "\u001b[1;31mUnicodeDecodeError\u001b[0m                        Traceback (most recent call last)",
      "\u001b[1;32m<ipython-input-85-4d564cbc5fe7>\u001b[0m in \u001b[0;36m<module>\u001b[1;34m\u001b[0m\n\u001b[1;32m----> 1\u001b[1;33m \u001b[0ma\u001b[0m\u001b[1;33m.\u001b[0m\u001b[0mdecode\u001b[0m\u001b[1;33m(\u001b[0m\u001b[1;33m)\u001b[0m\u001b[1;33m\u001b[0m\u001b[1;33m\u001b[0m\u001b[0m\n\u001b[0m",
      "\u001b[1;31mUnicodeDecodeError\u001b[0m: 'utf-8' codec can't decode byte 0xfd in position 0: invalid start byte"
     ]
    }
   ],
   "source": []
  },
  {
   "cell_type": "code",
   "execution_count": 86,
   "metadata": {},
   "outputs": [
    {
     "output_type": "execute_result",
     "data": {
      "text/plain": [
       "b'Attack at Dawn'"
      ]
     },
     "metadata": {},
     "execution_count": 86
    }
   ],
   "source": [
    "import nacl.signing\n",
    "\n",
    "# Create a VerifyKey object from a hex serialized public key\n",
    "verify_key = nacl.signing.VerifyKey(verify_key_hex, encoder=nacl.encoding.HexEncoder)\n",
    "\n",
    "# Check the validity of a message's signature\n",
    "# Will raise nacl.exceptions.BadSignatureError if the signature check fails\n",
    "verify_key.verify(signed)"
   ]
  },
  {
   "cell_type": "code",
   "execution_count": 3,
   "metadata": {},
   "outputs": [],
   "source": [
    "import nacl.signing"
   ]
  },
  {
   "cell_type": "code",
   "execution_count": 96,
   "metadata": {},
   "outputs": [],
   "source": [
    "Private_KEY = nacl.signing.SigningKey.generate()\n"
   ]
  },
  {
   "cell_type": "code",
   "execution_count": 105,
   "metadata": {},
   "outputs": [
    {
     "output_type": "stream",
     "name": "stdout",
     "text": [
      "b'\\xa0\\xf6q\\x90K\\xb9=\\xe1\\\\\\xa8\"\\xc2&|\\xe26)\\xec\\xbdB\\x0e\\x02\\xefa\\xb9:\\x1b6x\\xddT\\xe6'\n"
     ]
    }
   ],
   "source": [
    "print(Private_KEY)"
   ]
  },
  {
   "cell_type": "code",
   "execution_count": 108,
   "metadata": {},
   "outputs": [],
   "source": [
    "pkey_ = b'\\xa0\\xf6q\\x90K\\xb9=\\xe1\\\\\\xa8\"\\xc2&|\\xe26)\\xec\\xbdB\\x0e\\x02\\xefa\\xb9:\\x1b6x\\xddT\\xe6'"
   ]
  },
  {
   "cell_type": "code",
   "execution_count": 117,
   "metadata": {},
   "outputs": [
    {
     "output_type": "execute_result",
     "data": {
      "text/plain": [
       "'a0f671904bb93de15ca822c2267ce23629ecbd420e02ef61b93a1b3678dd54e6'"
      ]
     },
     "metadata": {},
     "execution_count": 117
    }
   ],
   "source": [
    "pkey_.hex()"
   ]
  },
  {
   "cell_type": "code",
   "execution_count": 130,
   "metadata": {},
   "outputs": [
    {
     "output_type": "execute_result",
     "data": {
      "text/plain": [
       "bytearray(b'a0f671904bb93de15ca822c2267ce23629ecbd420e02ef61b93a1b3678dd54e6')"
      ]
     },
     "metadata": {},
     "execution_count": 130
    }
   ],
   "source": [
    "bytearray(b'a0f671904bb93de15ca822c2267ce23629ecbd420e02ef61b93a1b3678dd54e6')"
   ]
  },
  {
   "cell_type": "code",
   "execution_count": 133,
   "metadata": {},
   "outputs": [
    {
     "output_type": "error",
     "ename": "AttributeError",
     "evalue": "'bytes' object has no attribute '_signing_key'",
     "traceback": [
      "\u001b[1;31m---------------------------------------------------------------------------\u001b[0m",
      "\u001b[1;31mAttributeError\u001b[0m                            Traceback (most recent call last)",
      "\u001b[1;32m<ipython-input-133-6b66e3e2ba8c>\u001b[0m in \u001b[0;36m<module>\u001b[1;34m\u001b[0m\n\u001b[1;32m----> 1\u001b[1;33m \u001b[0mnacl\u001b[0m\u001b[1;33m.\u001b[0m\u001b[0msigning\u001b[0m\u001b[1;33m.\u001b[0m\u001b[0mSigningKey\u001b[0m\u001b[1;33m.\u001b[0m\u001b[0msign\u001b[0m\u001b[1;33m(\u001b[0m\u001b[0mpkey_\u001b[0m\u001b[1;33m,\u001b[0m \u001b[1;34m\"Hello\"\u001b[0m\u001b[1;33m)\u001b[0m\u001b[1;33m\u001b[0m\u001b[1;33m\u001b[0m\u001b[0m\n\u001b[0m",
      "\u001b[1;32mC:\\Python39\\lib\\site-packages\\nacl\\signing.py\u001b[0m in \u001b[0;36msign\u001b[1;34m(self, message, encoder)\u001b[0m\n\u001b[0;32m    196\u001b[0m         \u001b[1;33m:\u001b[0m\u001b[0mrtype\u001b[0m\u001b[1;33m:\u001b[0m \u001b[1;33m:\u001b[0m\u001b[1;32mclass\u001b[0m\u001b[1;33m:\u001b[0m\u001b[0;31m`\u001b[0m\u001b[1;33m~\u001b[0m\u001b[0mnacl\u001b[0m\u001b[1;33m.\u001b[0m\u001b[0msigning\u001b[0m\u001b[1;33m.\u001b[0m\u001b[0mSignedMessage\u001b[0m\u001b[0;31m`\u001b[0m\u001b[1;33m\u001b[0m\u001b[1;33m\u001b[0m\u001b[0m\n\u001b[0;32m    197\u001b[0m         \"\"\"\n\u001b[1;32m--> 198\u001b[1;33m         \u001b[0mraw_signed\u001b[0m \u001b[1;33m=\u001b[0m \u001b[0mnacl\u001b[0m\u001b[1;33m.\u001b[0m\u001b[0mbindings\u001b[0m\u001b[1;33m.\u001b[0m\u001b[0mcrypto_sign\u001b[0m\u001b[1;33m(\u001b[0m\u001b[0mmessage\u001b[0m\u001b[1;33m,\u001b[0m \u001b[0mself\u001b[0m\u001b[1;33m.\u001b[0m\u001b[0m_signing_key\u001b[0m\u001b[1;33m)\u001b[0m\u001b[1;33m\u001b[0m\u001b[1;33m\u001b[0m\u001b[0m\n\u001b[0m\u001b[0;32m    199\u001b[0m \u001b[1;33m\u001b[0m\u001b[0m\n\u001b[0;32m    200\u001b[0m         \u001b[0mcrypto_sign_BYTES\u001b[0m \u001b[1;33m=\u001b[0m \u001b[0mnacl\u001b[0m\u001b[1;33m.\u001b[0m\u001b[0mbindings\u001b[0m\u001b[1;33m.\u001b[0m\u001b[0mcrypto_sign_BYTES\u001b[0m\u001b[1;33m\u001b[0m\u001b[1;33m\u001b[0m\u001b[0m\n",
      "\u001b[1;31mAttributeError\u001b[0m: 'bytes' object has no attribute '_signing_key'"
     ]
    }
   ],
   "source": [
    "nacl.signing.SigningKey.sign(pkey_, \"Hello\")"
   ]
  },
  {
   "cell_type": "code",
   "execution_count": 17,
   "metadata": {},
   "outputs": [],
   "source": [
    "a = nacl.signing.SigningKey.generate()"
   ]
  },
  {
   "cell_type": "code",
   "execution_count": 27,
   "metadata": {},
   "outputs": [
    {
     "output_type": "execute_result",
     "data": {
      "text/plain": [
       "b'\\x8by\\xe4\\xe6C%\\xbdN2?\\xee\\r\\x0e\\xc4\\xb6\\x0eH\\x12\\xd5\\xe2\\xc5)\\xe2\\xee\\xe5)\\xdc\\xbdU@\\xe3(-\\x0e\\xb9~\\xda\\x0c\\x95CB\\xa9\\x9a\\x86\\xdc@$ \\x13\\x9f\"\\xff\\x00\\xc7q\\xae\\x81l\\xfa\\xa6`\\x96\\x05\\xe3'"
      ]
     },
     "metadata": {},
     "execution_count": 27
    }
   ],
   "source": [
    "a._signing_key"
   ]
  },
  {
   "source": [
    "### Regenerating signing_key object from hex code for signing"
   ],
   "cell_type": "markdown",
   "metadata": {}
  },
  {
   "cell_type": "code",
   "execution_count": 69,
   "metadata": {},
   "outputs": [],
   "source": [
    "# encoding to hex\n",
    "signing_key_hex = a.encode(encoder=nacl.encoding.HexEncoder)\n"
   ]
  },
  {
   "cell_type": "code",
   "execution_count": 76,
   "metadata": {},
   "outputs": [],
   "source": [
    "# Regenerating from hex\n",
    "s_key = nacl.signing.SigningKey(signing_key_hex, encoder=nacl.encoding.HexEncoder)"
   ]
  },
  {
   "cell_type": "code",
   "execution_count": 85,
   "metadata": {},
   "outputs": [
    {
     "output_type": "error",
     "ename": "AttributeError",
     "evalue": "'SigningKey' object has no attribute 'sis_key'",
     "traceback": [
      "\u001b[1;31m---------------------------------------------------------------------------\u001b[0m",
      "\u001b[1;31mAttributeError\u001b[0m                            Traceback (most recent call last)",
      "\u001b[1;32m<ipython-input-85-00e68944128d>\u001b[0m in \u001b[0;36m<module>\u001b[1;34m\u001b[0m\n\u001b[1;32m----> 1\u001b[1;33m \u001b[0mc\u001b[0m\u001b[1;33m.\u001b[0m\u001b[0mverify\u001b[0m\u001b[1;33m(\u001b[0m\u001b[0ms_key\u001b[0m\u001b[1;33m.\u001b[0m\u001b[0msign\u001b[0m\u001b[1;33m(\u001b[0m\u001b[1;34m\"Hello\"\u001b[0m\u001b[1;33m.\u001b[0m\u001b[0mencode\u001b[0m\u001b[1;33m(\u001b[0m\u001b[1;33m)\u001b[0m\u001b[1;33m)\u001b[0m\u001b[1;33m)\u001b[0m \u001b[1;33m==\u001b[0m \u001b[0ms_key\u001b[0m\u001b[1;33m.\u001b[0m\u001b[0msis_key\u001b[0m\u001b[1;33m(\u001b[0m\u001b[1;34m\"Hello\"\u001b[0m\u001b[1;33m.\u001b[0m\u001b[0mencode\u001b[0m\u001b[1;33m(\u001b[0m\u001b[1;33m)\u001b[0m\u001b[1;33m)\u001b[0m\u001b[1;33m.\u001b[0m\u001b[0mmessage\u001b[0m\u001b[1;33m\u001b[0m\u001b[1;33m\u001b[0m\u001b[0m\n\u001b[0m",
      "\u001b[1;31mAttributeError\u001b[0m: 'SigningKey' object has no attribute 'sis_key'"
     ]
    }
   ],
   "source": [
    "s_key.sign(\"Hello\".encode())"
   ]
  },
  {
   "source": [
    "# ======================================================="
   ],
   "cell_type": "markdown",
   "metadata": {}
  },
  {
   "source": [
    "Genererating Verify Key/Public key object from hexcode"
   ],
   "cell_type": "markdown",
   "metadata": {}
  },
  {
   "cell_type": "code",
   "execution_count": 58,
   "metadata": {},
   "outputs": [],
   "source": [
    "import nacl.encoding"
   ]
  },
  {
   "cell_type": "code",
   "execution_count": 59,
   "metadata": {},
   "outputs": [],
   "source": [
    "verify_key_hex = a.verify_key.encode(encoder=nacl.encoding.HexEncoder)"
   ]
  },
  {
   "cell_type": "code",
   "execution_count": 60,
   "metadata": {},
   "outputs": [
    {
     "output_type": "execute_result",
     "data": {
      "text/plain": [
       "b'2d0eb97eda0c954342a99a86dc402420139f22ff00c771ae816cfaa6609605e3'"
      ]
     },
     "metadata": {},
     "execution_count": 60
    }
   ],
   "source": [
    "verify_key_hex"
   ]
  },
  {
   "cell_type": "code",
   "execution_count": 64,
   "metadata": {},
   "outputs": [],
   "source": [
    "c = nacl.signing.VerifyKey(verify_key_hex, encoder=nacl.encoding.HexEncoder)"
   ]
  },
  {
   "cell_type": "code",
   "execution_count": 66,
   "metadata": {},
   "outputs": [
    {
     "output_type": "execute_result",
     "data": {
      "text/plain": [
       "b'Hello'"
      ]
     },
     "metadata": {},
     "execution_count": 66
    }
   ],
   "source": [
    "c.verify(signed)"
   ]
  },
  {
   "cell_type": "code",
   "execution_count": 2,
   "metadata": {},
   "outputs": [],
   "source": [
    "import nacl.signing\n",
    "import nacl.encoding"
   ]
  },
  {
   "cell_type": "code",
   "execution_count": 8,
   "metadata": {},
   "outputs": [],
   "source": [
    "sender_id = 1\n",
    "receiver_id = 2\n",
    "amount = 3\n",
    "signing_key = 'a095397e3e573f947fdfe29deb12e083df357ec94f3833ff5e9474bc2269efbc'"
   ]
  },
  {
   "cell_type": "code",
   "execution_count": 10,
   "metadata": {},
   "outputs": [],
   "source": [
    "\n",
    "transaction = {\n",
    "\tsender_id: sender_id,\n",
    "\treceiver_id: receiver_id,\n",
    "\tamount: amount\n",
    "}\n"
   ]
  },
  {
   "cell_type": "code",
   "execution_count": 11,
   "metadata": {},
   "outputs": [],
   "source": [
    "sign_key = nacl.signing.SigningKey(signing_key, encoder=nacl.encoding.HexEncoder)"
   ]
  },
  {
   "cell_type": "code",
   "execution_count": 18,
   "metadata": {},
   "outputs": [
    {
     "output_type": "error",
     "ename": "TypeError",
     "evalue": "expected bytes-like object, not dict",
     "traceback": [
      "\u001b[1;31m---------------------------------------------------------------------------\u001b[0m",
      "\u001b[1;31mTypeError\u001b[0m                                 Traceback (most recent call last)",
      "\u001b[1;32m~\\AppData\\Local\\Programs\\Python\\Python39\\lib\\base64.py\u001b[0m in \u001b[0;36m_input_type_check\u001b[1;34m(s)\u001b[0m\n\u001b[0;32m    509\u001b[0m     \u001b[1;32mtry\u001b[0m\u001b[1;33m:\u001b[0m\u001b[1;33m\u001b[0m\u001b[1;33m\u001b[0m\u001b[0m\n\u001b[1;32m--> 510\u001b[1;33m         \u001b[0mm\u001b[0m \u001b[1;33m=\u001b[0m \u001b[0mmemoryview\u001b[0m\u001b[1;33m(\u001b[0m\u001b[0ms\u001b[0m\u001b[1;33m)\u001b[0m\u001b[1;33m\u001b[0m\u001b[1;33m\u001b[0m\u001b[0m\n\u001b[0m\u001b[0;32m    511\u001b[0m     \u001b[1;32mexcept\u001b[0m \u001b[0mTypeError\u001b[0m \u001b[1;32mas\u001b[0m \u001b[0merr\u001b[0m\u001b[1;33m:\u001b[0m\u001b[1;33m\u001b[0m\u001b[1;33m\u001b[0m\u001b[0m\n",
      "\u001b[1;31mTypeError\u001b[0m: memoryview: a bytes-like object is required, not 'dict'",
      "\nThe above exception was the direct cause of the following exception:\n",
      "\u001b[1;31mTypeError\u001b[0m                                 Traceback (most recent call last)",
      "\u001b[1;32m<ipython-input-18-75b3158137c2>\u001b[0m in \u001b[0;36m<module>\u001b[1;34m\u001b[0m\n\u001b[0;32m      2\u001b[0m \u001b[1;31m# a = base64.encode(transaction)\u001b[0m\u001b[1;33m\u001b[0m\u001b[1;33m\u001b[0m\u001b[1;33m\u001b[0m\u001b[0m\n\u001b[0;32m      3\u001b[0m \u001b[1;31m# transaction.\u001b[0m\u001b[1;33m\u001b[0m\u001b[1;33m\u001b[0m\u001b[1;33m\u001b[0m\u001b[0m\n\u001b[1;32m----> 4\u001b[1;33m \u001b[0ma\u001b[0m\u001b[1;33m=\u001b[0m\u001b[0mbase64\u001b[0m\u001b[1;33m.\u001b[0m\u001b[0mencodebytes\u001b[0m\u001b[1;33m(\u001b[0m\u001b[0mtransaction\u001b[0m\u001b[1;33m)\u001b[0m\u001b[1;33m\u001b[0m\u001b[1;33m\u001b[0m\u001b[0m\n\u001b[0m\u001b[0;32m      5\u001b[0m \u001b[1;33m\u001b[0m\u001b[0m\n\u001b[0;32m      6\u001b[0m \u001b[0msigned_transaction\u001b[0m \u001b[1;33m=\u001b[0m \u001b[0msign_key\u001b[0m\u001b[1;33m.\u001b[0m\u001b[0msign\u001b[0m\u001b[1;33m(\u001b[0m\u001b[0ma\u001b[0m\u001b[1;33m)\u001b[0m\u001b[1;33m\u001b[0m\u001b[1;33m\u001b[0m\u001b[0m\n",
      "\u001b[1;32m~\\AppData\\Local\\Programs\\Python\\Python39\\lib\\base64.py\u001b[0m in \u001b[0;36mencodebytes\u001b[1;34m(s)\u001b[0m\n\u001b[0;32m    525\u001b[0m     \"\"\"Encode a bytestring into a bytes object containing multiple lines\n\u001b[0;32m    526\u001b[0m     of base-64 data.\"\"\"\n\u001b[1;32m--> 527\u001b[1;33m     \u001b[0m_input_type_check\u001b[0m\u001b[1;33m(\u001b[0m\u001b[0ms\u001b[0m\u001b[1;33m)\u001b[0m\u001b[1;33m\u001b[0m\u001b[1;33m\u001b[0m\u001b[0m\n\u001b[0m\u001b[0;32m    528\u001b[0m     \u001b[0mpieces\u001b[0m \u001b[1;33m=\u001b[0m \u001b[1;33m[\u001b[0m\u001b[1;33m]\u001b[0m\u001b[1;33m\u001b[0m\u001b[1;33m\u001b[0m\u001b[0m\n\u001b[0;32m    529\u001b[0m     \u001b[1;32mfor\u001b[0m \u001b[0mi\u001b[0m \u001b[1;32min\u001b[0m \u001b[0mrange\u001b[0m\u001b[1;33m(\u001b[0m\u001b[1;36m0\u001b[0m\u001b[1;33m,\u001b[0m \u001b[0mlen\u001b[0m\u001b[1;33m(\u001b[0m\u001b[0ms\u001b[0m\u001b[1;33m)\u001b[0m\u001b[1;33m,\u001b[0m \u001b[0mMAXBINSIZE\u001b[0m\u001b[1;33m)\u001b[0m\u001b[1;33m:\u001b[0m\u001b[1;33m\u001b[0m\u001b[1;33m\u001b[0m\u001b[0m\n",
      "\u001b[1;32m~\\AppData\\Local\\Programs\\Python\\Python39\\lib\\base64.py\u001b[0m in \u001b[0;36m_input_type_check\u001b[1;34m(s)\u001b[0m\n\u001b[0;32m    511\u001b[0m     \u001b[1;32mexcept\u001b[0m \u001b[0mTypeError\u001b[0m \u001b[1;32mas\u001b[0m \u001b[0merr\u001b[0m\u001b[1;33m:\u001b[0m\u001b[1;33m\u001b[0m\u001b[1;33m\u001b[0m\u001b[0m\n\u001b[0;32m    512\u001b[0m         \u001b[0mmsg\u001b[0m \u001b[1;33m=\u001b[0m \u001b[1;34m\"expected bytes-like object, not %s\"\u001b[0m \u001b[1;33m%\u001b[0m \u001b[0ms\u001b[0m\u001b[1;33m.\u001b[0m\u001b[0m__class__\u001b[0m\u001b[1;33m.\u001b[0m\u001b[0m__name__\u001b[0m\u001b[1;33m\u001b[0m\u001b[1;33m\u001b[0m\u001b[0m\n\u001b[1;32m--> 513\u001b[1;33m         \u001b[1;32mraise\u001b[0m \u001b[0mTypeError\u001b[0m\u001b[1;33m(\u001b[0m\u001b[0mmsg\u001b[0m\u001b[1;33m)\u001b[0m \u001b[1;32mfrom\u001b[0m \u001b[0merr\u001b[0m\u001b[1;33m\u001b[0m\u001b[1;33m\u001b[0m\u001b[0m\n\u001b[0m\u001b[0;32m    514\u001b[0m     \u001b[1;32mif\u001b[0m \u001b[0mm\u001b[0m\u001b[1;33m.\u001b[0m\u001b[0mformat\u001b[0m \u001b[1;32mnot\u001b[0m \u001b[1;32min\u001b[0m \u001b[1;33m(\u001b[0m\u001b[1;34m'c'\u001b[0m\u001b[1;33m,\u001b[0m \u001b[1;34m'b'\u001b[0m\u001b[1;33m,\u001b[0m \u001b[1;34m'B'\u001b[0m\u001b[1;33m)\u001b[0m\u001b[1;33m:\u001b[0m\u001b[1;33m\u001b[0m\u001b[1;33m\u001b[0m\u001b[0m\n\u001b[0;32m    515\u001b[0m         msg = (\"expected single byte elements, not %r from %s\" %\n",
      "\u001b[1;31mTypeError\u001b[0m: expected bytes-like object, not dict"
     ]
    }
   ],
   "source": [
    "import base64\n",
    "# a = base64.encode(transaction)\n",
    "# transaction.\n",
    "\n",
    "signed_transaction = sign_key.sign(a)"
   ]
  },
  {
   "cell_type": "code",
   "execution_count": 6,
   "metadata": {},
   "outputs": [],
   "source": [
    "import nacl.encoding\n",
    "import nacl.signing\n",
    "\n",
    "seed = 'aaaaaaaaaaaaaaaaaaaaaaaaaaaaaaaa'.encode()\n",
    "\n",
    "Private_KEY = nacl.signing.SigningKey(seed=seed).generate()\n",
    "Public_KEY = Private_KEY.verify_key"
   ]
  },
  {
   "cell_type": "code",
   "execution_count": 47,
   "metadata": {},
   "outputs": [
    {
     "output_type": "execute_result",
     "data": {
      "text/plain": [
       "b'f3edb5ddb5a6521ac01f2ef713669c52a2a7c38bd9fcfe8ea403bad9fc6929a4'"
      ]
     },
     "metadata": {},
     "execution_count": 47
    }
   ],
   "source": [
    "Private_KEY.encode(encoder=nacl.encoding.HexEncoder)"
   ]
  },
  {
   "cell_type": "code",
   "execution_count": 46,
   "metadata": {},
   "outputs": [
    {
     "output_type": "execute_result",
     "data": {
      "text/plain": [
       "64"
      ]
     },
     "metadata": {},
     "execution_count": 46
    }
   ],
   "source": [
    "len(Private_KEY.encode(encoder=nacl.encoding.HexEncoder))"
   ]
  }
 ],
 "metadata": {
  "kernelspec": {
   "name": "python3",
   "display_name": "Python 3.9.5 64-bit"
  },
  "language_info": {
   "codemirror_mode": {
    "name": "ipython",
    "version": 3
   },
   "file_extension": ".py",
   "mimetype": "text/x-python",
   "name": "python",
   "nbconvert_exporter": "python",
   "pygments_lexer": "ipython3",
   "version": "3.9.5"
  },
  "varInspector": {
   "cols": {
    "lenName": 16,
    "lenType": 16,
    "lenVar": 40
   },
   "kernels_config": {
    "python": {
     "delete_cmd_postfix": "",
     "delete_cmd_prefix": "del ",
     "library": "var_list.py",
     "varRefreshCmd": "print(var_dic_list())"
    },
    "r": {
     "delete_cmd_postfix": ") ",
     "delete_cmd_prefix": "rm(",
     "library": "var_list.r",
     "varRefreshCmd": "cat(var_dic_list()) "
    }
   },
   "types_to_exclude": [
    "module",
    "function",
    "builtin_function_or_method",
    "instance",
    "_Feature"
   ],
   "window_display": false
  },
  "metadata": {
   "interpreter": {
    "hash": "701449839e10203efe60d853a9fa0d9a1b89d4cd9b77a09c64dd37d268332b4f"
   }
  },
  "interpreter": {
   "hash": "701449839e10203efe60d853a9fa0d9a1b89d4cd9b77a09c64dd37d268332b4f"
  }
 },
 "nbformat": 4,
 "nbformat_minor": 4
}